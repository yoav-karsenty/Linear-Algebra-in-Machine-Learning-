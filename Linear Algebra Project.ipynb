{
 "cells": [
  {
   "cell_type": "markdown",
   "metadata": {},
   "source": [
    "# Linear algebra in machine learning "
   ]
  },
  {
   "cell_type": "markdown",
   "metadata": {},
   "source": [
    "The Sure Tomorrow insurance company wants to solve several tasks with the help of Machine Learning. I am  asked to evaluate that possibility.\n",
    "\n",
    "- Task 1: Find customers who are similar to a given customer. This will help the company's agents with marketing.\n",
    "- Task 2: Predict whether a new customer is likely to receive an insurance benefit. Can a prediction model do better than a dummy model?\n",
    "- Task 3: Predict the number of insurance benefits a new customer is likely to receive using a linear regression model.\n",
    "- Task 4: Protect clients' personal data without breaking the model from the previous task. I"
   ]
  },
  {
   "cell_type": "markdown",
   "metadata": {},
   "source": [
    "# Data Preprocessing & Exploration\n",
    "\n",
    "## Initialization"
   ]
  },
  {
   "cell_type": "code",
   "execution_count": 1,
   "metadata": {},
   "outputs": [
    {
     "name": "stdout",
     "output_type": "stream",
     "text": [
      "Requirement already satisfied: scikit-learn in /Users/yaakovkarsenty/opt/anaconda3/lib/python3.8/site-packages (0.24.1)\n",
      "Collecting scikit-learn\n",
      "  Downloading scikit_learn-1.1.2-cp38-cp38-macosx_10_9_x86_64.whl (8.6 MB)\n",
      "\u001b[K     |████████████████████████████████| 8.6 MB 810 kB/s eta 0:00:01\n",
      "\u001b[?25hRequirement already satisfied: numpy>=1.17.3 in /Users/yaakovkarsenty/opt/anaconda3/lib/python3.8/site-packages (from scikit-learn) (1.20.1)\n",
      "Requirement already satisfied: scipy>=1.3.2 in /Users/yaakovkarsenty/opt/anaconda3/lib/python3.8/site-packages (from scikit-learn) (1.6.2)\n",
      "Requirement already satisfied: joblib>=1.0.0 in /Users/yaakovkarsenty/opt/anaconda3/lib/python3.8/site-packages (from scikit-learn) (1.0.1)\n",
      "Requirement already satisfied: threadpoolctl>=2.0.0 in /Users/yaakovkarsenty/opt/anaconda3/lib/python3.8/site-packages (from scikit-learn) (2.1.0)\n",
      "Installing collected packages: scikit-learn\n",
      "  Attempting uninstall: scikit-learn\n",
      "    Found existing installation: scikit-learn 0.24.1\n",
      "    Uninstalling scikit-learn-0.24.1:\n",
      "      Successfully uninstalled scikit-learn-0.24.1\n",
      "Successfully installed scikit-learn-1.1.2\n",
      "Note: you may need to restart the kernel to use updated packages.\n"
     ]
    }
   ],
   "source": [
    "pip install scikit-learn --upgrade"
   ]
  },
  {
   "cell_type": "code",
   "execution_count": 14,
   "metadata": {},
   "outputs": [],
   "source": [
    "import numpy as np\n",
    "import pandas as pd\n",
    "import warnings\n",
    "warnings.filterwarnings(\"ignore\")\n",
    "import seaborn as sns\n",
    "from scipy import math\n",
    "import sklearn.linear_model\n",
    "import sklearn.metrics\n",
    "import sklearn.neighbors\n",
    "import sklearn.preprocessing\n",
    "from sklearn.utils import shuffle\n",
    "import requests \n",
    "import io\n",
    "import matplotlib.pyplot as plt\n",
    "from sklearn.neighbors import KNeighborsClassifier\n",
    "\n",
    "from sklearn.model_selection import train_test_split\n",
    "\n",
    "from IPython.display import display"
   ]
  },
  {
   "cell_type": "markdown",
   "metadata": {},
   "source": [
    "## Load Data"
   ]
  },
  {
   "cell_type": "markdown",
   "metadata": {},
   "source": [
    "Loading data and conducting a basic check that it's free from obvious issues."
   ]
  },
  {
   "cell_type": "code",
   "execution_count": 15,
   "metadata": {},
   "outputs": [
    {
     "data": {
      "text/html": [
       "<div>\n",
       "<style scoped>\n",
       "    .dataframe tbody tr th:only-of-type {\n",
       "        vertical-align: middle;\n",
       "    }\n",
       "\n",
       "    .dataframe tbody tr th {\n",
       "        vertical-align: top;\n",
       "    }\n",
       "\n",
       "    .dataframe thead th {\n",
       "        text-align: right;\n",
       "    }\n",
       "</style>\n",
       "<table border=\"1\" class=\"dataframe\">\n",
       "  <thead>\n",
       "    <tr style=\"text-align: right;\">\n",
       "      <th></th>\n",
       "      <th>Gender</th>\n",
       "      <th>Age</th>\n",
       "      <th>Salary</th>\n",
       "      <th>Family members</th>\n",
       "      <th>Insurance benefits</th>\n",
       "    </tr>\n",
       "  </thead>\n",
       "  <tbody>\n",
       "    <tr>\n",
       "      <th>0</th>\n",
       "      <td>1</td>\n",
       "      <td>41.0</td>\n",
       "      <td>49600.0</td>\n",
       "      <td>1</td>\n",
       "      <td>0</td>\n",
       "    </tr>\n",
       "    <tr>\n",
       "      <th>1</th>\n",
       "      <td>0</td>\n",
       "      <td>46.0</td>\n",
       "      <td>38000.0</td>\n",
       "      <td>1</td>\n",
       "      <td>1</td>\n",
       "    </tr>\n",
       "    <tr>\n",
       "      <th>2</th>\n",
       "      <td>0</td>\n",
       "      <td>29.0</td>\n",
       "      <td>21000.0</td>\n",
       "      <td>0</td>\n",
       "      <td>0</td>\n",
       "    </tr>\n",
       "    <tr>\n",
       "      <th>3</th>\n",
       "      <td>0</td>\n",
       "      <td>21.0</td>\n",
       "      <td>41700.0</td>\n",
       "      <td>2</td>\n",
       "      <td>0</td>\n",
       "    </tr>\n",
       "    <tr>\n",
       "      <th>4</th>\n",
       "      <td>1</td>\n",
       "      <td>28.0</td>\n",
       "      <td>26100.0</td>\n",
       "      <td>0</td>\n",
       "      <td>0</td>\n",
       "    </tr>\n",
       "    <tr>\n",
       "      <th>...</th>\n",
       "      <td>...</td>\n",
       "      <td>...</td>\n",
       "      <td>...</td>\n",
       "      <td>...</td>\n",
       "      <td>...</td>\n",
       "    </tr>\n",
       "    <tr>\n",
       "      <th>4995</th>\n",
       "      <td>0</td>\n",
       "      <td>28.0</td>\n",
       "      <td>35700.0</td>\n",
       "      <td>2</td>\n",
       "      <td>0</td>\n",
       "    </tr>\n",
       "    <tr>\n",
       "      <th>4996</th>\n",
       "      <td>0</td>\n",
       "      <td>34.0</td>\n",
       "      <td>52400.0</td>\n",
       "      <td>1</td>\n",
       "      <td>0</td>\n",
       "    </tr>\n",
       "    <tr>\n",
       "      <th>4997</th>\n",
       "      <td>0</td>\n",
       "      <td>20.0</td>\n",
       "      <td>33900.0</td>\n",
       "      <td>2</td>\n",
       "      <td>0</td>\n",
       "    </tr>\n",
       "    <tr>\n",
       "      <th>4998</th>\n",
       "      <td>1</td>\n",
       "      <td>22.0</td>\n",
       "      <td>32700.0</td>\n",
       "      <td>3</td>\n",
       "      <td>0</td>\n",
       "    </tr>\n",
       "    <tr>\n",
       "      <th>4999</th>\n",
       "      <td>1</td>\n",
       "      <td>28.0</td>\n",
       "      <td>40600.0</td>\n",
       "      <td>1</td>\n",
       "      <td>0</td>\n",
       "    </tr>\n",
       "  </tbody>\n",
       "</table>\n",
       "<p>5000 rows × 5 columns</p>\n",
       "</div>"
      ],
      "text/plain": [
       "      Gender   Age   Salary  Family members  Insurance benefits\n",
       "0          1  41.0  49600.0               1                   0\n",
       "1          0  46.0  38000.0               1                   1\n",
       "2          0  29.0  21000.0               0                   0\n",
       "3          0  21.0  41700.0               2                   0\n",
       "4          1  28.0  26100.0               0                   0\n",
       "...      ...   ...      ...             ...                 ...\n",
       "4995       0  28.0  35700.0               2                   0\n",
       "4996       0  34.0  52400.0               1                   0\n",
       "4997       0  20.0  33900.0               2                   0\n",
       "4998       1  22.0  32700.0               3                   0\n",
       "4999       1  28.0  40600.0               1                   0\n",
       "\n",
       "[5000 rows x 5 columns]"
      ]
     },
     "execution_count": 15,
     "metadata": {},
     "output_type": "execute_result"
    }
   ],
   "source": [
    "# Downloading the csv file from my GitHub account\n",
    "\n",
    "url = \"https://raw.githubusercontent.com/yoav-karsenty/Linear-Algebra-in-Machine-Learning-/main/insurance_us.csv\"\n",
    "download = requests.get(url).content\n",
    "\n",
    "# Reading the downloaded content and turning it into a pandas dataframe\n",
    "\n",
    "df = pd.read_csv(io.StringIO(download.decode('utf-8')))\n",
    "\n",
    "df"
   ]
  },
  {
   "cell_type": "markdown",
   "metadata": {},
   "source": [
    "Renaming the colums to make the code look more consistent with its style."
   ]
  },
  {
   "cell_type": "code",
   "execution_count": 16,
   "metadata": {},
   "outputs": [],
   "source": [
    "df = df.rename(columns={'Gender': 'gender', 'Age': 'age', 'Salary': 'income', 'Family members': 'family_members', 'Insurance benefits': 'insurance_benefits'})"
   ]
  },
  {
   "cell_type": "code",
   "execution_count": 17,
   "metadata": {},
   "outputs": [
    {
     "data": {
      "text/html": [
       "<div>\n",
       "<style scoped>\n",
       "    .dataframe tbody tr th:only-of-type {\n",
       "        vertical-align: middle;\n",
       "    }\n",
       "\n",
       "    .dataframe tbody tr th {\n",
       "        vertical-align: top;\n",
       "    }\n",
       "\n",
       "    .dataframe thead th {\n",
       "        text-align: right;\n",
       "    }\n",
       "</style>\n",
       "<table border=\"1\" class=\"dataframe\">\n",
       "  <thead>\n",
       "    <tr style=\"text-align: right;\">\n",
       "      <th></th>\n",
       "      <th>gender</th>\n",
       "      <th>age</th>\n",
       "      <th>income</th>\n",
       "      <th>family_members</th>\n",
       "      <th>insurance_benefits</th>\n",
       "    </tr>\n",
       "  </thead>\n",
       "  <tbody>\n",
       "    <tr>\n",
       "      <th>1948</th>\n",
       "      <td>0</td>\n",
       "      <td>27.0</td>\n",
       "      <td>37100.0</td>\n",
       "      <td>1</td>\n",
       "      <td>0</td>\n",
       "    </tr>\n",
       "    <tr>\n",
       "      <th>3250</th>\n",
       "      <td>1</td>\n",
       "      <td>30.0</td>\n",
       "      <td>29300.0</td>\n",
       "      <td>2</td>\n",
       "      <td>0</td>\n",
       "    </tr>\n",
       "    <tr>\n",
       "      <th>727</th>\n",
       "      <td>1</td>\n",
       "      <td>26.0</td>\n",
       "      <td>34200.0</td>\n",
       "      <td>0</td>\n",
       "      <td>0</td>\n",
       "    </tr>\n",
       "    <tr>\n",
       "      <th>2971</th>\n",
       "      <td>0</td>\n",
       "      <td>34.0</td>\n",
       "      <td>44000.0</td>\n",
       "      <td>1</td>\n",
       "      <td>0</td>\n",
       "    </tr>\n",
       "    <tr>\n",
       "      <th>2339</th>\n",
       "      <td>1</td>\n",
       "      <td>30.0</td>\n",
       "      <td>52600.0</td>\n",
       "      <td>4</td>\n",
       "      <td>0</td>\n",
       "    </tr>\n",
       "    <tr>\n",
       "      <th>2670</th>\n",
       "      <td>0</td>\n",
       "      <td>26.0</td>\n",
       "      <td>41600.0</td>\n",
       "      <td>3</td>\n",
       "      <td>0</td>\n",
       "    </tr>\n",
       "    <tr>\n",
       "      <th>4006</th>\n",
       "      <td>1</td>\n",
       "      <td>27.0</td>\n",
       "      <td>50600.0</td>\n",
       "      <td>2</td>\n",
       "      <td>0</td>\n",
       "    </tr>\n",
       "    <tr>\n",
       "      <th>1432</th>\n",
       "      <td>1</td>\n",
       "      <td>21.0</td>\n",
       "      <td>41300.0</td>\n",
       "      <td>1</td>\n",
       "      <td>0</td>\n",
       "    </tr>\n",
       "    <tr>\n",
       "      <th>2323</th>\n",
       "      <td>0</td>\n",
       "      <td>22.0</td>\n",
       "      <td>45800.0</td>\n",
       "      <td>1</td>\n",
       "      <td>0</td>\n",
       "    </tr>\n",
       "    <tr>\n",
       "      <th>3678</th>\n",
       "      <td>0</td>\n",
       "      <td>21.0</td>\n",
       "      <td>44300.0</td>\n",
       "      <td>2</td>\n",
       "      <td>0</td>\n",
       "    </tr>\n",
       "  </tbody>\n",
       "</table>\n",
       "</div>"
      ],
      "text/plain": [
       "      gender   age   income  family_members  insurance_benefits\n",
       "1948       0  27.0  37100.0               1                   0\n",
       "3250       1  30.0  29300.0               2                   0\n",
       "727        1  26.0  34200.0               0                   0\n",
       "2971       0  34.0  44000.0               1                   0\n",
       "2339       1  30.0  52600.0               4                   0\n",
       "2670       0  26.0  41600.0               3                   0\n",
       "4006       1  27.0  50600.0               2                   0\n",
       "1432       1  21.0  41300.0               1                   0\n",
       "2323       0  22.0  45800.0               1                   0\n",
       "3678       0  21.0  44300.0               2                   0"
      ]
     },
     "execution_count": 17,
     "metadata": {},
     "output_type": "execute_result"
    }
   ],
   "source": [
    "df.sample(10)"
   ]
  },
  {
   "cell_type": "code",
   "execution_count": 18,
   "metadata": {},
   "outputs": [
    {
     "name": "stdout",
     "output_type": "stream",
     "text": [
      "<class 'pandas.core.frame.DataFrame'>\n",
      "RangeIndex: 5000 entries, 0 to 4999\n",
      "Data columns (total 5 columns):\n",
      " #   Column              Non-Null Count  Dtype  \n",
      "---  ------              --------------  -----  \n",
      " 0   gender              5000 non-null   int64  \n",
      " 1   age                 5000 non-null   float64\n",
      " 2   income              5000 non-null   float64\n",
      " 3   family_members      5000 non-null   int64  \n",
      " 4   insurance_benefits  5000 non-null   int64  \n",
      "dtypes: float64(2), int64(3)\n",
      "memory usage: 195.4 KB\n"
     ]
    }
   ],
   "source": [
    "df.info()"
   ]
  },
  {
   "cell_type": "code",
   "execution_count": 19,
   "metadata": {},
   "outputs": [],
   "source": [
    "# we may want to fix the age type (from float to int) though this is not critical\n",
    "df['age'] = df['age'].astype(int)\n"
   ]
  },
  {
   "cell_type": "code",
   "execution_count": 20,
   "metadata": {
    "scrolled": true
   },
   "outputs": [
    {
     "name": "stdout",
     "output_type": "stream",
     "text": [
      "<class 'pandas.core.frame.DataFrame'>\n",
      "RangeIndex: 5000 entries, 0 to 4999\n",
      "Data columns (total 5 columns):\n",
      " #   Column              Non-Null Count  Dtype  \n",
      "---  ------              --------------  -----  \n",
      " 0   gender              5000 non-null   int64  \n",
      " 1   age                 5000 non-null   int64  \n",
      " 2   income              5000 non-null   float64\n",
      " 3   family_members      5000 non-null   int64  \n",
      " 4   insurance_benefits  5000 non-null   int64  \n",
      "dtypes: float64(1), int64(4)\n",
      "memory usage: 195.4 KB\n"
     ]
    },
    {
     "data": {
      "text/plain": [
       "0"
      ]
     },
     "execution_count": 20,
     "metadata": {},
     "output_type": "execute_result"
    }
   ],
   "source": [
    "# check to see that the conversion was successful\n",
    "df.info()\n",
    "# check there are no missing values\n",
    "df.isna().sum().sum()"
   ]
  },
  {
   "cell_type": "code",
   "execution_count": 21,
   "metadata": {},
   "outputs": [
    {
     "data": {
      "text/plain": [
       "153"
      ]
     },
     "execution_count": 21,
     "metadata": {},
     "output_type": "execute_result"
    }
   ],
   "source": [
    "#check for duplucated rows\n",
    "df.duplicated().sum()"
   ]
  },
  {
   "cell_type": "markdown",
   "metadata": {},
   "source": [
    "It seems there are 153 duplicated rows, but since there are no ids in the df and only 5 columns, i cant say for sure those rows are actually duplicated and since its a small portion of the data i will keep them as they will not disturb the analysis and model buliding"
   ]
  },
  {
   "cell_type": "code",
   "execution_count": 22,
   "metadata": {},
   "outputs": [
    {
     "data": {
      "text/html": [
       "<div>\n",
       "<style scoped>\n",
       "    .dataframe tbody tr th:only-of-type {\n",
       "        vertical-align: middle;\n",
       "    }\n",
       "\n",
       "    .dataframe tbody tr th {\n",
       "        vertical-align: top;\n",
       "    }\n",
       "\n",
       "    .dataframe thead th {\n",
       "        text-align: right;\n",
       "    }\n",
       "</style>\n",
       "<table border=\"1\" class=\"dataframe\">\n",
       "  <thead>\n",
       "    <tr style=\"text-align: right;\">\n",
       "      <th></th>\n",
       "      <th>gender</th>\n",
       "      <th>age</th>\n",
       "      <th>income</th>\n",
       "      <th>family_members</th>\n",
       "      <th>insurance_benefits</th>\n",
       "    </tr>\n",
       "  </thead>\n",
       "  <tbody>\n",
       "    <tr>\n",
       "      <th>count</th>\n",
       "      <td>5000.000000</td>\n",
       "      <td>5000.000000</td>\n",
       "      <td>5000.000000</td>\n",
       "      <td>5000.000000</td>\n",
       "      <td>5000.000000</td>\n",
       "    </tr>\n",
       "    <tr>\n",
       "      <th>mean</th>\n",
       "      <td>0.499000</td>\n",
       "      <td>30.952800</td>\n",
       "      <td>39916.360000</td>\n",
       "      <td>1.194200</td>\n",
       "      <td>0.148000</td>\n",
       "    </tr>\n",
       "    <tr>\n",
       "      <th>std</th>\n",
       "      <td>0.500049</td>\n",
       "      <td>8.440807</td>\n",
       "      <td>9900.083569</td>\n",
       "      <td>1.091387</td>\n",
       "      <td>0.463183</td>\n",
       "    </tr>\n",
       "    <tr>\n",
       "      <th>min</th>\n",
       "      <td>0.000000</td>\n",
       "      <td>18.000000</td>\n",
       "      <td>5300.000000</td>\n",
       "      <td>0.000000</td>\n",
       "      <td>0.000000</td>\n",
       "    </tr>\n",
       "    <tr>\n",
       "      <th>25%</th>\n",
       "      <td>0.000000</td>\n",
       "      <td>24.000000</td>\n",
       "      <td>33300.000000</td>\n",
       "      <td>0.000000</td>\n",
       "      <td>0.000000</td>\n",
       "    </tr>\n",
       "    <tr>\n",
       "      <th>50%</th>\n",
       "      <td>0.000000</td>\n",
       "      <td>30.000000</td>\n",
       "      <td>40200.000000</td>\n",
       "      <td>1.000000</td>\n",
       "      <td>0.000000</td>\n",
       "    </tr>\n",
       "    <tr>\n",
       "      <th>75%</th>\n",
       "      <td>1.000000</td>\n",
       "      <td>37.000000</td>\n",
       "      <td>46600.000000</td>\n",
       "      <td>2.000000</td>\n",
       "      <td>0.000000</td>\n",
       "    </tr>\n",
       "    <tr>\n",
       "      <th>max</th>\n",
       "      <td>1.000000</td>\n",
       "      <td>65.000000</td>\n",
       "      <td>79000.000000</td>\n",
       "      <td>6.000000</td>\n",
       "      <td>5.000000</td>\n",
       "    </tr>\n",
       "  </tbody>\n",
       "</table>\n",
       "</div>"
      ],
      "text/plain": [
       "            gender          age        income  family_members  \\\n",
       "count  5000.000000  5000.000000   5000.000000     5000.000000   \n",
       "mean      0.499000    30.952800  39916.360000        1.194200   \n",
       "std       0.500049     8.440807   9900.083569        1.091387   \n",
       "min       0.000000    18.000000   5300.000000        0.000000   \n",
       "25%       0.000000    24.000000  33300.000000        0.000000   \n",
       "50%       0.000000    30.000000  40200.000000        1.000000   \n",
       "75%       1.000000    37.000000  46600.000000        2.000000   \n",
       "max       1.000000    65.000000  79000.000000        6.000000   \n",
       "\n",
       "       insurance_benefits  \n",
       "count         5000.000000  \n",
       "mean             0.148000  \n",
       "std              0.463183  \n",
       "min              0.000000  \n",
       "25%              0.000000  \n",
       "50%              0.000000  \n",
       "75%              0.000000  \n",
       "max              5.000000  "
      ]
     },
     "execution_count": 22,
     "metadata": {},
     "output_type": "execute_result"
    }
   ],
   "source": [
    "# now lest have a look at the data's descriptive statistics. \n",
    "df.describe()\n"
   ]
  },
  {
   "cell_type": "markdown",
   "metadata": {},
   "source": [
    "Everything looks ok, but its clear the data is not scaled. the income column contains significantly high values compared to the other columns, this will have to be addressed later. "
   ]
  },
  {
   "cell_type": "markdown",
   "metadata": {},
   "source": [
    "## EDA"
   ]
  },
  {
   "cell_type": "markdown",
   "metadata": {},
   "source": [
    "Let's quickly check whether there are certain groups of customers by looking at the pair plot."
   ]
  },
  {
   "cell_type": "code",
   "execution_count": 23,
   "metadata": {},
   "outputs": [
    {
     "data": {
      "image/png": "[encoded data removed]",
      "text/plain": [
       "<Figure size 864x864 with 30 Axes>"
      ]
     },
     "metadata": {
      "needs_background": "light"
     },
     "output_type": "display_data"
    }
   ],
   "source": [
    "g = sns.pairplot(df, kind='hist')\n",
    "g.fig.set_size_inches(12, 12)"
   ]
  },
  {
   "cell_type": "markdown",
   "metadata": {},
   "source": [
    "Ok, it is a bit difficult to spot obvious groups (clusters) as it is difficult to combine several variables simultaneously (to analyze multivariate distributions). That's where LA and ML can be quite handy."
   ]
  },
  {
   "cell_type": "markdown",
   "metadata": {},
   "source": [
    "# Task 1. Similar Customers"
   ]
  },
  {
   "cell_type": "markdown",
   "metadata": {},
   "source": [
    "In the language of ML, it is necessary to develop a procedure that returns k nearest neighbors (objects) for a given object based on the distance between the objects.\n",
    "\n",
    "You may want to review the following lessons (chapter -> lesson)\n",
    "- Distance Between Vectors -> Euclidean Distance\n",
    "- Distance Between Vectors -> Manhattan Distance\n",
    "\n",
    "To solve the task, we can try different distance metrics."
   ]
  },
  {
   "cell_type": "markdown",
   "metadata": {},
   "source": [
    "I will write a function that returns k nearest neighbors for an $n^{th}$ object based on a specified distance metric. The number of received insurance benefits should not be taken into account for this task. \n",
    "\n",
    "Next, I Will test it for four combination of two cases\n",
    "- Scaling\n",
    "  - the data is not scaled\n",
    "  - the data is scaled with the [MaxAbsScaler]\n",
    "- Distance Metrics\n",
    "  - Euclidean\n",
    "  - Manhattan\n",
    "\n",
    "I will answer these questions:\n",
    "- Does the data being not scaled affect the kNN algorithm? If so, how does that appear?\n",
    "- How similar are the results using the Manhattan distance metric (regardless of the scaling)?"
   ]
  },
  {
   "cell_type": "code",
   "execution_count": 24,
   "metadata": {},
   "outputs": [],
   "source": [
    "feature_names = ['gender', 'age', 'income', 'family_members']"
   ]
  },
  {
   "cell_type": "code",
   "execution_count": 25,
   "metadata": {},
   "outputs": [],
   "source": [
    "def get_knn(df, n, k, metric):\n",
    "    \n",
    "    \"\"\"\n",
    "    Returns k nearest neighbors\n",
    "\n",
    "    :param df: pandas DataFrame used to find similar objects within\n",
    "    :param n: object no for which the nearest neighbours are looked for\n",
    "    :param k: the number of the nearest neighbours to return\n",
    "    :param metric: name of distance metric\n",
    "    \"\"\"\n",
    "# fit the NearestNeighbours model to the dataset\n",
    "\n",
    "    nbrs = sklearn.neighbors.NearestNeighbors(n_neighbors=k, algorithm='brute', metric=metric).fit(df[feature_names])\n",
    "    # find the distances and the indexes of the k nearest observations to the vector n\n",
    "\n",
    "    nbrs_distances, nbrs_indices = nbrs.kneighbors([df.iloc[n][feature_names]], k, return_distance=True)\n",
    "    \n",
    "    df_res = pd.concat([\n",
    "        df.iloc[nbrs_indices[0]], \n",
    "        pd.DataFrame(nbrs_distances.T, index=nbrs_indices[0], columns=['distance'])\n",
    "        ], axis=1)\n",
    "    \n",
    "    return df_res"
   ]
  },
  {
   "cell_type": "markdown",
   "metadata": {},
   "source": [
    "Scaling the data."
   ]
  },
  {
   "cell_type": "code",
   "execution_count": 26,
   "metadata": {},
   "outputs": [],
   "source": [
    "feature_names = ['gender', 'age', 'income', 'family_members']\n",
    "\n",
    "transformer_mas = sklearn.preprocessing.MaxAbsScaler().fit(df[feature_names].to_numpy())\n",
    "\n",
    "df_scaled = df.copy()\n",
    "df_scaled.loc[:, feature_names] = transformer_mas.transform(df[feature_names].to_numpy())"
   ]
  },
  {
   "cell_type": "code",
   "execution_count": 27,
   "metadata": {},
   "outputs": [
    {
     "data": {
      "text/html": [
       "<div>\n",
       "<style scoped>\n",
       "    .dataframe tbody tr th:only-of-type {\n",
       "        vertical-align: middle;\n",
       "    }\n",
       "\n",
       "    .dataframe tbody tr th {\n",
       "        vertical-align: top;\n",
       "    }\n",
       "\n",
       "    .dataframe thead th {\n",
       "        text-align: right;\n",
       "    }\n",
       "</style>\n",
       "<table border=\"1\" class=\"dataframe\">\n",
       "  <thead>\n",
       "    <tr style=\"text-align: right;\">\n",
       "      <th></th>\n",
       "      <th>gender</th>\n",
       "      <th>age</th>\n",
       "      <th>income</th>\n",
       "      <th>family_members</th>\n",
       "      <th>insurance_benefits</th>\n",
       "    </tr>\n",
       "  </thead>\n",
       "  <tbody>\n",
       "    <tr>\n",
       "      <th>1615</th>\n",
       "      <td>0.0</td>\n",
       "      <td>0.276923</td>\n",
       "      <td>0.521519</td>\n",
       "      <td>0.000000</td>\n",
       "      <td>0</td>\n",
       "    </tr>\n",
       "    <tr>\n",
       "      <th>2154</th>\n",
       "      <td>1.0</td>\n",
       "      <td>0.369231</td>\n",
       "      <td>0.610127</td>\n",
       "      <td>0.333333</td>\n",
       "      <td>0</td>\n",
       "    </tr>\n",
       "    <tr>\n",
       "      <th>980</th>\n",
       "      <td>0.0</td>\n",
       "      <td>0.538462</td>\n",
       "      <td>0.525316</td>\n",
       "      <td>0.500000</td>\n",
       "      <td>0</td>\n",
       "    </tr>\n",
       "    <tr>\n",
       "      <th>4574</th>\n",
       "      <td>1.0</td>\n",
       "      <td>0.461538</td>\n",
       "      <td>0.322785</td>\n",
       "      <td>0.000000</td>\n",
       "      <td>0</td>\n",
       "    </tr>\n",
       "    <tr>\n",
       "      <th>4111</th>\n",
       "      <td>0.0</td>\n",
       "      <td>0.353846</td>\n",
       "      <td>0.322785</td>\n",
       "      <td>0.166667</td>\n",
       "      <td>0</td>\n",
       "    </tr>\n",
       "  </tbody>\n",
       "</table>\n",
       "</div>"
      ],
      "text/plain": [
       "      gender       age    income  family_members  insurance_benefits\n",
       "1615     0.0  0.276923  0.521519        0.000000                   0\n",
       "2154     1.0  0.369231  0.610127        0.333333                   0\n",
       "980      0.0  0.538462  0.525316        0.500000                   0\n",
       "4574     1.0  0.461538  0.322785        0.000000                   0\n",
       "4111     0.0  0.353846  0.322785        0.166667                   0"
      ]
     },
     "execution_count": 27,
     "metadata": {},
     "output_type": "execute_result"
    }
   ],
   "source": [
    "df_scaled.sample(5)"
   ]
  },
  {
   "cell_type": "markdown",
   "metadata": {},
   "source": [
    "Now, let's get similar records for a given one for every combination"
   ]
  },
  {
   "cell_type": "code",
   "execution_count": 28,
   "metadata": {
    "scrolled": true
   },
   "outputs": [
    {
     "data": {
      "text/html": [
       "<div>\n",
       "<style scoped>\n",
       "    .dataframe tbody tr th:only-of-type {\n",
       "        vertical-align: middle;\n",
       "    }\n",
       "\n",
       "    .dataframe tbody tr th {\n",
       "        vertical-align: top;\n",
       "    }\n",
       "\n",
       "    .dataframe thead th {\n",
       "        text-align: right;\n",
       "    }\n",
       "</style>\n",
       "<table border=\"1\" class=\"dataframe\">\n",
       "  <thead>\n",
       "    <tr style=\"text-align: right;\">\n",
       "      <th></th>\n",
       "      <th>gender</th>\n",
       "      <th>age</th>\n",
       "      <th>income</th>\n",
       "      <th>family_members</th>\n",
       "      <th>insurance_benefits</th>\n",
       "      <th>distance</th>\n",
       "    </tr>\n",
       "  </thead>\n",
       "  <tbody>\n",
       "    <tr>\n",
       "      <th>5</th>\n",
       "      <td>1</td>\n",
       "      <td>43</td>\n",
       "      <td>41000.0</td>\n",
       "      <td>2</td>\n",
       "      <td>1</td>\n",
       "      <td>0.0</td>\n",
       "    </tr>\n",
       "    <tr>\n",
       "      <th>3801</th>\n",
       "      <td>0</td>\n",
       "      <td>46</td>\n",
       "      <td>41000.0</td>\n",
       "      <td>2</td>\n",
       "      <td>1</td>\n",
       "      <td>4.0</td>\n",
       "    </tr>\n",
       "    <tr>\n",
       "      <th>3972</th>\n",
       "      <td>1</td>\n",
       "      <td>40</td>\n",
       "      <td>41000.0</td>\n",
       "      <td>1</td>\n",
       "      <td>0</td>\n",
       "      <td>4.0</td>\n",
       "    </tr>\n",
       "  </tbody>\n",
       "</table>\n",
       "</div>"
      ],
      "text/plain": [
       "      gender  age   income  family_members  insurance_benefits  distance\n",
       "5          1   43  41000.0               2                   1       0.0\n",
       "3801       0   46  41000.0               2                   1       4.0\n",
       "3972       1   40  41000.0               1                   0       4.0"
      ]
     },
     "execution_count": 28,
     "metadata": {},
     "output_type": "execute_result"
    }
   ],
   "source": [
    "get_knn(df,5, 3,'manhattan')"
   ]
  },
  {
   "cell_type": "code",
   "execution_count": 29,
   "metadata": {
    "scrolled": true
   },
   "outputs": [
    {
     "data": {
      "text/html": [
       "<div>\n",
       "<style scoped>\n",
       "    .dataframe tbody tr th:only-of-type {\n",
       "        vertical-align: middle;\n",
       "    }\n",
       "\n",
       "    .dataframe tbody tr th {\n",
       "        vertical-align: top;\n",
       "    }\n",
       "\n",
       "    .dataframe thead th {\n",
       "        text-align: right;\n",
       "    }\n",
       "</style>\n",
       "<table border=\"1\" class=\"dataframe\">\n",
       "  <thead>\n",
       "    <tr style=\"text-align: right;\">\n",
       "      <th></th>\n",
       "      <th>gender</th>\n",
       "      <th>age</th>\n",
       "      <th>income</th>\n",
       "      <th>family_members</th>\n",
       "      <th>insurance_benefits</th>\n",
       "      <th>distance</th>\n",
       "    </tr>\n",
       "  </thead>\n",
       "  <tbody>\n",
       "    <tr>\n",
       "      <th>5</th>\n",
       "      <td>1</td>\n",
       "      <td>43</td>\n",
       "      <td>41000.0</td>\n",
       "      <td>2</td>\n",
       "      <td>1</td>\n",
       "      <td>0.000000</td>\n",
       "    </tr>\n",
       "    <tr>\n",
       "      <th>1995</th>\n",
       "      <td>0</td>\n",
       "      <td>45</td>\n",
       "      <td>41000.0</td>\n",
       "      <td>0</td>\n",
       "      <td>1</td>\n",
       "      <td>3.000000</td>\n",
       "    </tr>\n",
       "    <tr>\n",
       "      <th>3972</th>\n",
       "      <td>1</td>\n",
       "      <td>40</td>\n",
       "      <td>41000.0</td>\n",
       "      <td>1</td>\n",
       "      <td>0</td>\n",
       "      <td>3.162278</td>\n",
       "    </tr>\n",
       "  </tbody>\n",
       "</table>\n",
       "</div>"
      ],
      "text/plain": [
       "      gender  age   income  family_members  insurance_benefits  distance\n",
       "5          1   43  41000.0               2                   1  0.000000\n",
       "1995       0   45  41000.0               0                   1  3.000000\n",
       "3972       1   40  41000.0               1                   0  3.162278"
      ]
     },
     "execution_count": 29,
     "metadata": {},
     "output_type": "execute_result"
    }
   ],
   "source": [
    "get_knn(df,5, 3,'euclidean')"
   ]
  },
  {
   "cell_type": "code",
   "execution_count": 30,
   "metadata": {},
   "outputs": [
    {
     "data": {
      "text/html": [
       "<div>\n",
       "<style scoped>\n",
       "    .dataframe tbody tr th:only-of-type {\n",
       "        vertical-align: middle;\n",
       "    }\n",
       "\n",
       "    .dataframe tbody tr th {\n",
       "        vertical-align: top;\n",
       "    }\n",
       "\n",
       "    .dataframe thead th {\n",
       "        text-align: right;\n",
       "    }\n",
       "</style>\n",
       "<table border=\"1\" class=\"dataframe\">\n",
       "  <thead>\n",
       "    <tr style=\"text-align: right;\">\n",
       "      <th></th>\n",
       "      <th>gender</th>\n",
       "      <th>age</th>\n",
       "      <th>income</th>\n",
       "      <th>family_members</th>\n",
       "      <th>insurance_benefits</th>\n",
       "      <th>distance</th>\n",
       "    </tr>\n",
       "  </thead>\n",
       "  <tbody>\n",
       "    <tr>\n",
       "      <th>5</th>\n",
       "      <td>1.0</td>\n",
       "      <td>0.661538</td>\n",
       "      <td>0.518987</td>\n",
       "      <td>0.333333</td>\n",
       "      <td>1</td>\n",
       "      <td>0.000000</td>\n",
       "    </tr>\n",
       "    <tr>\n",
       "      <th>4074</th>\n",
       "      <td>1.0</td>\n",
       "      <td>0.661538</td>\n",
       "      <td>0.501266</td>\n",
       "      <td>0.333333</td>\n",
       "      <td>1</td>\n",
       "      <td>0.017722</td>\n",
       "    </tr>\n",
       "    <tr>\n",
       "      <th>1147</th>\n",
       "      <td>1.0</td>\n",
       "      <td>0.646154</td>\n",
       "      <td>0.516456</td>\n",
       "      <td>0.333333</td>\n",
       "      <td>0</td>\n",
       "      <td>0.017916</td>\n",
       "    </tr>\n",
       "  </tbody>\n",
       "</table>\n",
       "</div>"
      ],
      "text/plain": [
       "      gender       age    income  family_members  insurance_benefits  distance\n",
       "5        1.0  0.661538  0.518987        0.333333                   1  0.000000\n",
       "4074     1.0  0.661538  0.501266        0.333333                   1  0.017722\n",
       "1147     1.0  0.646154  0.516456        0.333333                   0  0.017916"
      ]
     },
     "execution_count": 30,
     "metadata": {},
     "output_type": "execute_result"
    }
   ],
   "source": [
    "get_knn(df_scaled,5, 3,'manhattan')"
   ]
  },
  {
   "cell_type": "code",
   "execution_count": 31,
   "metadata": {},
   "outputs": [
    {
     "data": {
      "text/html": [
       "<div>\n",
       "<style scoped>\n",
       "    .dataframe tbody tr th:only-of-type {\n",
       "        vertical-align: middle;\n",
       "    }\n",
       "\n",
       "    .dataframe tbody tr th {\n",
       "        vertical-align: top;\n",
       "    }\n",
       "\n",
       "    .dataframe thead th {\n",
       "        text-align: right;\n",
       "    }\n",
       "</style>\n",
       "<table border=\"1\" class=\"dataframe\">\n",
       "  <thead>\n",
       "    <tr style=\"text-align: right;\">\n",
       "      <th></th>\n",
       "      <th>gender</th>\n",
       "      <th>age</th>\n",
       "      <th>income</th>\n",
       "      <th>family_members</th>\n",
       "      <th>insurance_benefits</th>\n",
       "      <th>distance</th>\n",
       "    </tr>\n",
       "  </thead>\n",
       "  <tbody>\n",
       "    <tr>\n",
       "      <th>5</th>\n",
       "      <td>1.0</td>\n",
       "      <td>0.661538</td>\n",
       "      <td>0.518987</td>\n",
       "      <td>0.333333</td>\n",
       "      <td>1</td>\n",
       "      <td>0.000000</td>\n",
       "    </tr>\n",
       "    <tr>\n",
       "      <th>1147</th>\n",
       "      <td>1.0</td>\n",
       "      <td>0.646154</td>\n",
       "      <td>0.516456</td>\n",
       "      <td>0.333333</td>\n",
       "      <td>0</td>\n",
       "      <td>0.015592</td>\n",
       "    </tr>\n",
       "    <tr>\n",
       "      <th>4074</th>\n",
       "      <td>1.0</td>\n",
       "      <td>0.661538</td>\n",
       "      <td>0.501266</td>\n",
       "      <td>0.333333</td>\n",
       "      <td>1</td>\n",
       "      <td>0.017722</td>\n",
       "    </tr>\n",
       "  </tbody>\n",
       "</table>\n",
       "</div>"
      ],
      "text/plain": [
       "      gender       age    income  family_members  insurance_benefits  distance\n",
       "5        1.0  0.661538  0.518987        0.333333                   1  0.000000\n",
       "1147     1.0  0.646154  0.516456        0.333333                   0  0.015592\n",
       "4074     1.0  0.661538  0.501266        0.333333                   1  0.017722"
      ]
     },
     "execution_count": 31,
     "metadata": {},
     "output_type": "execute_result"
    }
   ],
   "source": [
    "get_knn(df_scaled,5, 3,'euclidean')"
   ]
  },
  {
   "cell_type": "markdown",
   "metadata": {},
   "source": [
    "Answers to the questions"
   ]
  },
  {
   "cell_type": "markdown",
   "metadata": {},
   "source": [
    "**Does the data being not scaled affect the kNN algorithm? how does that appear?** \n",
    "\n",
    "The data being not scaled does affect the kNN algorithm. The income column contains very high values compared to the rest of the columns so it is dominating the algorithm search for nearest neighbours. The neighbours that the algorithm found in the unscaled df all have the exact same income, wich can point that other features are not considerd as much as the income feature. "
   ]
  },
  {
   "cell_type": "markdown",
   "metadata": {},
   "source": [
    "\n",
    "**How similar are the results using the Manhattan distance metric (regardless of the scaling)?** \n",
    "\n",
    "The results are preaty similar because these are the nearest neighbours by distance from the same vector [5]. "
   ]
  },
  {
   "cell_type": "markdown",
   "metadata": {},
   "source": [
    "# Task 2. Is Customer Likely to Receive Insurance Benefit?"
   ]
  },
  {
   "cell_type": "markdown",
   "metadata": {},
   "source": [
    "In terms of machine learning we can look at this like a binary classification task."
   ]
  },
  {
   "cell_type": "markdown",
   "metadata": {},
   "source": [
    "With `insurance_benefits` being more than zero as the target, evaluate whether the kNN classification approach can do better than a dummy model.\n",
    "\n",
    "I will:\n",
    "- Build a KNN-based classifier and measure its quality with the F1 metric for k=1..10 for both the original data and the scaled one. That'd be interesting to see how k may influece the evaluation metric, and whether scaling the data makes any difference. \n",
    "- Build the dummy model which is just random for this case. It should return \"1\" with some probability. Let's test the model with four probability values: 0, the probability of paying any insurance benefit, 0.5, 1.\n",
    "\n",
    "The probability of paying any insurance benefit can be defined as\n",
    "\n",
    "$$\n",
    "P\\{\\text{insurance benefit received}\\}=\\frac{\\text{number of clients received any insurance benefit}}{\\text{total number of clients}}.\n",
    "$$\n",
    "\n",
    "Split the whole data in the 70:30 proportion for the training/testing parts."
   ]
  },
  {
   "cell_type": "code",
   "execution_count": 20,
   "metadata": {
    "scrolled": true
   },
   "outputs": [
    {
     "data": {
      "text/plain": [
       "0    4436\n",
       "1     423\n",
       "2     115\n",
       "3      18\n",
       "4       7\n",
       "5       1\n",
       "Name: insurance_benefits, dtype: int64"
      ]
     },
     "execution_count": 20,
     "metadata": {},
     "output_type": "execute_result"
    }
   ],
   "source": [
    "#check for distribution of values in the insurance_benefits column\n",
    "df.insurance_benefits.value_counts()"
   ]
  },
  {
   "cell_type": "code",
   "execution_count": 21,
   "metadata": {},
   "outputs": [
    {
     "data": {
      "text/html": [
       "<div>\n",
       "<style scoped>\n",
       "    .dataframe tbody tr th:only-of-type {\n",
       "        vertical-align: middle;\n",
       "    }\n",
       "\n",
       "    .dataframe tbody tr th {\n",
       "        vertical-align: top;\n",
       "    }\n",
       "\n",
       "    .dataframe thead th {\n",
       "        text-align: right;\n",
       "    }\n",
       "</style>\n",
       "<table border=\"1\" class=\"dataframe\">\n",
       "  <thead>\n",
       "    <tr style=\"text-align: right;\">\n",
       "      <th></th>\n",
       "      <th>gender</th>\n",
       "      <th>age</th>\n",
       "      <th>income</th>\n",
       "      <th>family_members</th>\n",
       "      <th>insurance_benefits</th>\n",
       "      <th>insurance_benefits_received</th>\n",
       "    </tr>\n",
       "  </thead>\n",
       "  <tbody>\n",
       "    <tr>\n",
       "      <th>4149</th>\n",
       "      <td>1</td>\n",
       "      <td>31</td>\n",
       "      <td>25600.0</td>\n",
       "      <td>0</td>\n",
       "      <td>0</td>\n",
       "      <td>0</td>\n",
       "    </tr>\n",
       "    <tr>\n",
       "      <th>4773</th>\n",
       "      <td>1</td>\n",
       "      <td>47</td>\n",
       "      <td>45300.0</td>\n",
       "      <td>0</td>\n",
       "      <td>1</td>\n",
       "      <td>1</td>\n",
       "    </tr>\n",
       "    <tr>\n",
       "      <th>2669</th>\n",
       "      <td>1</td>\n",
       "      <td>29</td>\n",
       "      <td>38800.0</td>\n",
       "      <td>1</td>\n",
       "      <td>0</td>\n",
       "      <td>0</td>\n",
       "    </tr>\n",
       "    <tr>\n",
       "      <th>4616</th>\n",
       "      <td>0</td>\n",
       "      <td>38</td>\n",
       "      <td>29700.0</td>\n",
       "      <td>1</td>\n",
       "      <td>0</td>\n",
       "      <td>0</td>\n",
       "    </tr>\n",
       "    <tr>\n",
       "      <th>2240</th>\n",
       "      <td>0</td>\n",
       "      <td>60</td>\n",
       "      <td>27900.0</td>\n",
       "      <td>0</td>\n",
       "      <td>4</td>\n",
       "      <td>1</td>\n",
       "    </tr>\n",
       "    <tr>\n",
       "      <th>3447</th>\n",
       "      <td>1</td>\n",
       "      <td>25</td>\n",
       "      <td>37300.0</td>\n",
       "      <td>0</td>\n",
       "      <td>0</td>\n",
       "      <td>0</td>\n",
       "    </tr>\n",
       "    <tr>\n",
       "      <th>1282</th>\n",
       "      <td>0</td>\n",
       "      <td>43</td>\n",
       "      <td>31300.0</td>\n",
       "      <td>1</td>\n",
       "      <td>1</td>\n",
       "      <td>1</td>\n",
       "    </tr>\n",
       "    <tr>\n",
       "      <th>736</th>\n",
       "      <td>0</td>\n",
       "      <td>20</td>\n",
       "      <td>39200.0</td>\n",
       "      <td>1</td>\n",
       "      <td>0</td>\n",
       "      <td>0</td>\n",
       "    </tr>\n",
       "    <tr>\n",
       "      <th>4571</th>\n",
       "      <td>0</td>\n",
       "      <td>24</td>\n",
       "      <td>50100.0</td>\n",
       "      <td>0</td>\n",
       "      <td>0</td>\n",
       "      <td>0</td>\n",
       "    </tr>\n",
       "    <tr>\n",
       "      <th>1014</th>\n",
       "      <td>0</td>\n",
       "      <td>38</td>\n",
       "      <td>43300.0</td>\n",
       "      <td>1</td>\n",
       "      <td>0</td>\n",
       "      <td>0</td>\n",
       "    </tr>\n",
       "  </tbody>\n",
       "</table>\n",
       "</div>"
      ],
      "text/plain": [
       "      gender  age   income  family_members  insurance_benefits  \\\n",
       "4149       1   31  25600.0               0                   0   \n",
       "4773       1   47  45300.0               0                   1   \n",
       "2669       1   29  38800.0               1                   0   \n",
       "4616       0   38  29700.0               1                   0   \n",
       "2240       0   60  27900.0               0                   4   \n",
       "3447       1   25  37300.0               0                   0   \n",
       "1282       0   43  31300.0               1                   1   \n",
       "736        0   20  39200.0               1                   0   \n",
       "4571       0   24  50100.0               0                   0   \n",
       "1014       0   38  43300.0               1                   0   \n",
       "\n",
       "      insurance_benefits_received  \n",
       "4149                            0  \n",
       "4773                            1  \n",
       "2669                            0  \n",
       "4616                            0  \n",
       "2240                            1  \n",
       "3447                            0  \n",
       "1282                            1  \n",
       "736                             0  \n",
       "4571                            0  \n",
       "1014                            0  "
      ]
     },
     "execution_count": 21,
     "metadata": {},
     "output_type": "execute_result"
    }
   ],
   "source": [
    "# calculate the target\n",
    "\n",
    "df['insurance_benefits_received'] = np.where(df['insurance_benefits'] == 0,0,1)\n",
    "df_scaled['insurance_benefits_received'] = np.where(df_scaled['insurance_benefits'] == 0,0,1)\n",
    "\n",
    "df.sample(10)"
   ]
  },
  {
   "cell_type": "code",
   "execution_count": 22,
   "metadata": {
    "scrolled": false
   },
   "outputs": [
    {
     "data": {
      "text/plain": [
       "0    4436\n",
       "1     564\n",
       "Name: insurance_benefits_received, dtype: int64"
      ]
     },
     "execution_count": 22,
     "metadata": {},
     "output_type": "execute_result"
    }
   ],
   "source": [
    "# check for the class imbalance with value_counts()\n",
    "df.insurance_benefits_received.value_counts()\n"
   ]
  },
  {
   "cell_type": "code",
   "execution_count": 23,
   "metadata": {},
   "outputs": [],
   "source": [
    "\n",
    "features = df[['gender', 'age', 'income', 'family_members']]\n",
    "target = df['insurance_benefits_received']"
   ]
  },
  {
   "cell_type": "code",
   "execution_count": 24,
   "metadata": {},
   "outputs": [],
   "source": [
    "#splitting the df into features and target of train df and test df \n",
    "features_train, features_test, target_train, target_test = train_test_split(features, target, test_size=0.30)\n",
    "#building the model \n",
    "k=10\n",
    "model = KNeighborsClassifier(n_neighbors=k)\n",
    "model.fit(features_train, target_train)\n",
    "predictions = model.predict(features_test)\n"
   ]
  },
  {
   "cell_type": "code",
   "execution_count": 25,
   "metadata": {},
   "outputs": [],
   "source": [
    "#creating a function that evaluate the model using f1 score\n",
    "def eval_classifier(y_true, y_pred):\n",
    "    \n",
    "    f1_score = sklearn.metrics.f1_score(y_true, y_pred)\n",
    "    print(f'F1: {f1_score:.2f}')\n",
    "    return f1_score\n",
    "    \n",
    "    cm = sklearn.metrics.confusion_matrix(y_true, y_pred, normalize='all')\n",
    "    print('Confusion Matrix')\n",
    "    print(cm)"
   ]
  },
  {
   "cell_type": "code",
   "execution_count": 26,
   "metadata": {},
   "outputs": [
    {
     "name": "stdout",
     "output_type": "stream",
     "text": [
      "F1: 0.02\n"
     ]
    },
    {
     "data": {
      "text/plain": [
       "0.023255813953488372"
      ]
     },
     "execution_count": 26,
     "metadata": {},
     "output_type": "execute_result"
    }
   ],
   "source": [
    "eval_classifier(target_test,predictions)"
   ]
  },
  {
   "cell_type": "code",
   "execution_count": 27,
   "metadata": {},
   "outputs": [],
   "source": [
    "# generating output of a random model\n",
    "\n",
    "def rnd_model_predict(P, size, seed=42):\n",
    "\n",
    "    rng = np.random.default_rng(seed=seed)\n",
    "    return rng.binomial(n=1, p=P, size=size)"
   ]
  },
  {
   "cell_type": "code",
   "execution_count": 28,
   "metadata": {
    "scrolled": true
   },
   "outputs": [
    {
     "name": "stdout",
     "output_type": "stream",
     "text": [
      "The probability: 0.00\n",
      "F1: 0.00\n",
      "\n",
      "The probability: 0.11\n",
      "F1: 0.12\n",
      "\n",
      "The probability: 0.50\n",
      "F1: 0.20\n",
      "\n",
      "The probability: 1.00\n",
      "F1: 0.20\n",
      "\n"
     ]
    }
   ],
   "source": [
    "#Testing the dummt model \n",
    "dummies = []\n",
    "for P in [0, df['insurance_benefits_received'].sum() / len(df), 0.5, 1]:\n",
    "\n",
    "    print(f'The probability: {P:.2f}')\n",
    "    y_pred_rnd = rnd_model_predict(P,len(df)) \n",
    "        \n",
    "    ev = eval_classifier(df['insurance_benefits_received'], y_pred_rnd)\n",
    "    \n",
    "    print()\n",
    "    dummies.append(ev)"
   ]
  },
  {
   "cell_type": "code",
   "execution_count": 29,
   "metadata": {},
   "outputs": [
    {
     "name": "stdout",
     "output_type": "stream",
     "text": [
      "F1: 0.64\n",
      "F1: 0.33\n",
      "F1: 0.35\n",
      "F1: 0.13\n",
      "F1: 0.14\n",
      "F1: 0.07\n",
      "F1: 0.07\n",
      "F1: 0.05\n",
      "F1: 0.05\n",
      "F1: 0.03\n",
      "list 1 [0.6385542168674698, 0.33043478260869563, 0.3534136546184739, 0.1313131313131313, 0.13793103448275862, 0.07329842931937172, 0.07253886010362694, 0.05376344086021505, 0.053475935828877004, 0.032432432432432434]\n",
      "F1: 0.92\n",
      "F1: 0.93\n",
      "F1: 0.92\n",
      "F1: 0.91\n",
      "F1: 0.93\n",
      "F1: 0.92\n",
      "F1: 0.93\n",
      "F1: 0.89\n",
      "F1: 0.91\n",
      "F1: 0.88\n",
      "list 2 [0.9245901639344262, 0.9273356401384083, 0.9205298013245033, 0.9146757679180887, 0.9266666666666666, 0.923611111111111, 0.9283276450511945, 0.8936170212765957, 0.9128919860627177, 0.8840579710144928]\n"
     ]
    },
    {
     "data": {
      "text/plain": [
       "<matplotlib.legend.Legend at 0x7f67333878e0>"
      ]
     },
     "execution_count": 29,
     "metadata": {},
     "output_type": "execute_result"
    },
    {
     "data": {
      "image/png": "[encoded data removed]",
      "text/plain": [
       "<Figure size 432x288 with 1 Axes>"
      ]
     },
     "metadata": {
      "needs_background": "light"
     },
     "output_type": "display_data"
    }
   ],
   "source": [
    "#Testing the model on scaled and unscaled data,\n",
    "\n",
    "res = []\n",
    "i = 0\n",
    "for d in (df, df_scaled):\n",
    "    i += 1\n",
    "    current_res = []\n",
    "    features = d[['gender', 'age', 'income', 'family_members']]\n",
    "    target = d['insurance_benefits_received']\n",
    "    features_train, features_test, target_train, target_test = train_test_split(features, target, test_size=0.30)\n",
    "    for k in range (1,11):\n",
    "        model = KNeighborsClassifier(n_neighbors=k)\n",
    "        model.fit(features_train, target_train)\n",
    "        predictions = model.predict(features_test)\n",
    "        ev = eval_classifier(target_test, predictions)\n",
    "        current_res.append(ev)\n",
    "        #append answer to list and visualize\n",
    "    res.append(current_res)\n",
    "    print(f'list {i}', current_res)\n",
    "\n",
    "#visualizing the results\n",
    "plt.plot(res[0],label=\"Unscaled Data\")\n",
    "plt.plot(res[1],label=\"Scaled Data\")\n",
    "     \n",
    "plt.hlines(dummies, 0, 10,label=\"Dummy model\",color='green')    \n",
    "\n",
    "plt.legend(loc=\"upper left\")\n",
    "\n",
    "    \n",
    "    "
   ]
  },
  {
   "cell_type": "markdown",
   "metadata": {},
   "source": [
    "We can see that scaled model is performing much better then the dummy model and the unscaled model.\n",
    "    "
   ]
  },
  {
   "cell_type": "markdown",
   "metadata": {},
   "source": [
    "# Task 3. Regression (with Linear Regression)"
   ]
  },
  {
   "cell_type": "markdown",
   "metadata": {},
   "source": [
    "With `insurance_benefits` as the target, evaluate what RMSE would be for a Linear Regression model."
   ]
  },
  {
   "cell_type": "markdown",
   "metadata": {},
   "source": [
    "I will: \n",
    "\n",
    "Build my own implementation of LR. \n",
    "\n",
    "Let's denote\n",
    "- $X$ — feature matrix, each row is a case, each column is a feature, the first column consists of unities\n",
    "- $y$ — target (a vector)\n",
    "- $\\hat{y}$ — estimated tagret (a vector)\n",
    "- $w$ — weight vector\n",
    "\n",
    "The task of linear regression in the language of matrices can be formulated as\n",
    "\n",
    "$$\n",
    "y = Xw\n",
    "$$\n",
    "\n",
    "The training objective then is to find such $w$ that it would minimize the L2-distance (MSE) between $Xw$ and $y$:\n",
    "\n",
    "$$\n",
    "\\min_w d_2(Xw, y) \\quad \\text{or} \\quad \\min_w \\text{MSE}(Xw, y)\n",
    "$$\n",
    "\n",
    "It appears that there is analytical solution for the above:\n",
    "\n",
    "$$\n",
    "w = (X^T X)^{-1} X^T y\n",
    "$$\n",
    "\n",
    "The formula above can be used to find the weights $w$ and the latter can be used to calculate predicted values\n",
    "\n",
    "$$\n",
    "\\hat{y} = X_{val}w\n",
    "$$"
   ]
  },
  {
   "cell_type": "markdown",
   "metadata": {},
   "source": [
    "Split the whole data in the 70:30 proportion for the training/validation parts. Use the RMSE metric for the model evaluation."
   ]
  },
  {
   "cell_type": "code",
   "execution_count": 30,
   "metadata": {},
   "outputs": [],
   "source": [
    "#Creating a LinearRegression model \n",
    "class MyLinearRegression:\n",
    "    \n",
    "    def __init__(self):\n",
    "        \n",
    "        self.weights = None\n",
    "    \n",
    "    def fit(self, X, y):\n",
    "        \n",
    "        # adding the unities\n",
    "        X2 = np.append(np.ones([len(X), 1]), X, axis=1)\n",
    "        self.weights =  np.linalg.inv(X2.T.dot(X2)).dot(X2.T).dot(y)\n",
    "\n",
    "    def predict(self, X):\n",
    "        \n",
    "        # adding the unities\n",
    "        X2 = np.append(np.ones([len(X), 1]), X, axis=1)\n",
    "        y_pred = X2.dot(self.weights)\n",
    "        \n",
    "        return y_pred"
   ]
  },
  {
   "cell_type": "code",
   "execution_count": 31,
   "metadata": {},
   "outputs": [],
   "source": [
    "# a function the will evaluate the model using rmse and r2 score metrics\n",
    "def eval_regressor(y_true, y_pred):\n",
    "    \n",
    "    rmse = math.sqrt(sklearn.metrics.mean_squared_error(y_true, y_pred))\n",
    "    print(f'RMSE: {rmse:.2f}')\n",
    "    \n",
    "    r2_score = math.sqrt(sklearn.metrics.r2_score(y_true, y_pred))\n",
    "    print(f'R2: {r2_score:.2f}')    "
   ]
  },
  {
   "cell_type": "code",
   "execution_count": 32,
   "metadata": {},
   "outputs": [
    {
     "name": "stdout",
     "output_type": "stream",
     "text": [
      "[-9.43539012e-01  3.57495491e-02  1.64272726e-02 -2.60743659e-07\n",
      " -1.16902127e-02]\n",
      "RMSE: 0.34\n",
      "R2: 0.66\n"
     ]
    }
   ],
   "source": [
    "X = df[['age', 'gender', 'income', 'family_members']].to_numpy()\n",
    "y = df['insurance_benefits'].to_numpy()\n",
    "\n",
    "X_train, X_test, y_train, y_test = train_test_split(X, y, test_size=0.3, random_state=12345)\n",
    "\n",
    "lr = MyLinearRegression()\n",
    "\n",
    "lr.fit(X_train, y_train)\n",
    "print(lr.weights)\n",
    "\n",
    "y_test_pred = lr.predict(X_test)\n",
    "eval_regressor(y_test, y_test_pred)"
   ]
  },
  {
   "cell_type": "code",
   "execution_count": 33,
   "metadata": {},
   "outputs": [
    {
     "name": "stdout",
     "output_type": "stream",
     "text": [
      "[-0.94353901  2.32372069  0.01642727 -0.02059875 -0.07014128]\n",
      "RMSE: 0.34\n",
      "R2: 0.66\n"
     ]
    }
   ],
   "source": [
    "sX = df_scaled[['age', 'gender', 'income', 'family_members']].to_numpy()\n",
    "sy = df_scaled['insurance_benefits'].to_numpy()\n",
    "\n",
    "sX_train, sX_test, sy_train, sy_test = train_test_split(sX, sy, test_size=0.3, random_state=12345)\n",
    "\n",
    "slr = MyLinearRegression()\n",
    "\n",
    "slr.fit(sX_train, sy_train)\n",
    "print(slr.weights)\n",
    "\n",
    "sy_test_pred = slr.predict(sX_test)\n",
    "eval_regressor(sy_test, sy_test_pred)"
   ]
  },
  {
   "cell_type": "markdown",
   "metadata": {},
   "source": [
    "It seems that the RMSE and R2 score does not change using the scaled_df or tthe normal df"
   ]
  },
  {
   "cell_type": "markdown",
   "metadata": {},
   "source": [
    "# Task 4. Obfuscating Data"
   ]
  },
  {
   "cell_type": "markdown",
   "metadata": {},
   "source": [
    "It best to obfuscate data by multiplying the numerical features by an invertible matrix $P$. \n",
    "\n",
    "$$\n",
    "X' = X \\times P\n",
    "$$\n",
    "\n",
    "I wil ltry to do that and check how the features' values will look like after the transformation. By the way, the intertible property is important here so make sure that $P$ is indeed invertible."
   ]
  },
  {
   "cell_type": "code",
   "execution_count": 34,
   "metadata": {},
   "outputs": [],
   "source": [
    "personal_info_column_list = ['gender', 'age', 'income', 'family_members']\n",
    "df_pn = df[personal_info_column_list]"
   ]
  },
  {
   "cell_type": "code",
   "execution_count": 35,
   "metadata": {},
   "outputs": [
    {
     "data": {
      "text/plain": [
       "array([[1.00e+00, 4.10e+01, 4.96e+04, 1.00e+00],\n",
       "       [0.00e+00, 4.60e+01, 3.80e+04, 1.00e+00],\n",
       "       [0.00e+00, 2.90e+01, 2.10e+04, 0.00e+00],\n",
       "       ...,\n",
       "       [0.00e+00, 2.00e+01, 3.39e+04, 2.00e+00],\n",
       "       [1.00e+00, 2.20e+01, 3.27e+04, 3.00e+00],\n",
       "       [1.00e+00, 2.80e+01, 4.06e+04, 1.00e+00]])"
      ]
     },
     "execution_count": 35,
     "metadata": {},
     "output_type": "execute_result"
    }
   ],
   "source": [
    "\n",
    "X = df_pn.to_numpy()\n",
    "X"
   ]
  },
  {
   "cell_type": "markdown",
   "metadata": {},
   "source": [
    "Generating a random matrix $P$."
   ]
  },
  {
   "cell_type": "code",
   "execution_count": 36,
   "metadata": {},
   "outputs": [],
   "source": [
    "rng = np.random.default_rng(seed=42)\n",
    "P = rng.random(size=(X.shape[1], X.shape[1]))\n"
   ]
  },
  {
   "cell_type": "markdown",
   "metadata": {},
   "source": [
    "Checking the matrix $P$ is invertible"
   ]
  },
  {
   "cell_type": "code",
   "execution_count": 37,
   "metadata": {},
   "outputs": [
    {
     "name": "stdout",
     "output_type": "stream",
     "text": [
      "[[ 1.00000000e+00  1.85130588e-16 -2.97856902e-16 -3.91584367e-17]\n",
      " [ 6.23834470e-17  1.00000000e+00 -7.10568689e-17  8.24459807e-17]\n",
      " [ 1.03941594e-17  2.27454503e-17  1.00000000e+00 -5.77784356e-17]\n",
      " [-1.02697151e-16 -1.69379178e-16 -2.49945035e-17  1.00000000e+00]]\n"
     ]
    }
   ],
   "source": [
    "print(P @ ( np.linalg.inv(P)))\n"
   ]
  },
  {
   "cell_type": "markdown",
   "metadata": {},
   "source": [
    "Can you guess the customers' ages or income after the transformation?"
   ]
  },
  {
   "cell_type": "code",
   "execution_count": 38,
   "metadata": {
    "scrolled": true
   },
   "outputs": [
    {
     "data": {
      "text/plain": [
       "array([[ 6359.71527314, 22380.40467609, 18424.09074184, 46000.69669016],\n",
       "       [ 4873.29406479, 17160.36702982, 14125.78076133, 35253.45577301],\n",
       "       [ 2693.11742928,  9486.397744  ,  7808.83156024, 19484.86063067],\n",
       "       ...,\n",
       "       [ 4346.2234249 , 15289.24126492, 12586.16264392, 31433.50888552],\n",
       "       [ 4194.09324155, 14751.9910242 , 12144.02930637, 30323.88763426],\n",
       "       [ 5205.46827354, 18314.24814446, 15077.01370762, 37649.59295455]])"
      ]
     },
     "execution_count": 38,
     "metadata": {},
     "output_type": "execute_result"
    }
   ],
   "source": [
    "X_transformed = X @ P\n",
    "X_transformed"
   ]
  },
  {
   "cell_type": "markdown",
   "metadata": {},
   "source": [
    "seems like Obfuscating the data worked. We cant detect customers' ages or income after the transformation. "
   ]
  },
  {
   "cell_type": "code",
   "execution_count": 39,
   "metadata": {},
   "outputs": [
    {
     "data": {
      "text/plain": [
       "array([[ 1.00000000e+00,  4.10000000e+01,  4.96000000e+04,\n",
       "         1.00000000e+00],\n",
       "       [ 1.67952800e-12,  4.60000000e+01,  3.80000000e+04,\n",
       "         1.00000000e+00],\n",
       "       [-6.23021448e-13,  2.90000000e+01,  2.10000000e+04,\n",
       "        -2.03032656e-13],\n",
       "       ...,\n",
       "       [ 1.57996161e-12,  2.00000000e+01,  3.39000000e+04,\n",
       "         2.00000000e+00],\n",
       "       [ 1.00000000e+00,  2.20000000e+01,  3.27000000e+04,\n",
       "         3.00000000e+00],\n",
       "       [ 1.00000000e+00,  2.80000000e+01,  4.06000000e+04,\n",
       "         1.00000000e+00]])"
      ]
     },
     "execution_count": 39,
     "metadata": {},
     "output_type": "execute_result"
    }
   ],
   "source": [
    "#recovering p \n",
    "X_transformed @ np.linalg.inv(P)"
   ]
  },
  {
   "cell_type": "code",
   "execution_count": 40,
   "metadata": {},
   "outputs": [
    {
     "data": {
      "text/plain": [
       "True"
      ]
     },
     "execution_count": 40,
     "metadata": {},
     "output_type": "execute_result"
    }
   ],
   "source": [
    "#checking if after recovering the data X is the same as X_transformed @ np.linalg.inv(P)\n",
    "np.allclose(X_transformed @ np.linalg.inv(P), X)"
   ]
  },
  {
   "cell_type": "markdown",
   "metadata": {},
   "source": [
    "Print all three cases for a few customers\n",
    "- The original data\n",
    "- The transformed one\n",
    "- The reversed (recovered) one"
   ]
  },
  {
   "cell_type": "code",
   "execution_count": 41,
   "metadata": {},
   "outputs": [
    {
     "name": "stdout",
     "output_type": "stream",
     "text": [
      "   gender   age   income  family_members\n",
      "0     1.0  41.0  49600.0             1.0\n",
      "1     0.0  46.0  38000.0             1.0\n",
      "2     0.0  29.0  21000.0             0.0\n",
      "3     0.0  21.0  41700.0             2.0\n",
      "4     1.0  28.0  26100.0             0.0\n",
      "        gender           age        income  family_members\n",
      "0  6359.715273  22380.404676  18424.090742    46000.696690\n",
      "1  4873.294065  17160.367030  14125.780761    35253.455773\n",
      "2  2693.117429   9486.397744   7808.831560    19484.860631\n",
      "3  5345.603937  18803.227203  15479.148373    38663.061863\n",
      "4  3347.176735  11782.829283   9699.998942    24211.273378\n",
      "         gender   age   income  family_members\n",
      "0  1.000000e+00  41.0  49600.0    1.000000e+00\n",
      "1  1.679528e-12  46.0  38000.0    1.000000e+00\n",
      "2 -6.230214e-13  29.0  21000.0   -2.030327e-13\n",
      "3 -1.089078e-12  21.0  41700.0    2.000000e+00\n",
      "4  1.000000e+00  28.0  26100.0   -1.524242e-12\n"
     ]
    }
   ],
   "source": [
    "#print(X[:5, :])\n",
    "def X2df(X):\n",
    "    return pd.DataFrame(columns=personal_info_column_list, data=X)\n",
    "print(X2df(X[:5, :]))\n",
    "print(X2df((X @ P)[:5, :]))\n",
    "print(X2df(((X @ P) @ np.linalg.inv(P))[:5, :]))\n"
   ]
  },
  {
   "cell_type": "markdown",
   "metadata": {},
   "source": [
    "You can probably see that some values are not exactly the same as they are in the original data. What might be the reason for that?"
   ]
  },
  {
   "cell_type": "markdown",
   "metadata": {},
   "source": [
    "The values are not exactly the same as they are in the original data probably due to numpy floating point percision."
   ]
  },
  {
   "cell_type": "markdown",
   "metadata": {},
   "source": [
    "## Proof That Data Obfuscation Can Work with LR"
   ]
  },
  {
   "cell_type": "markdown",
   "metadata": {},
   "source": [
    "The regression task has been solved with linear regression in this project. My next task is to prove _analytically_ that the given obfuscation method won't affect linear regression in terms of predicted values i.e. their values will remain the same."
   ]
  },
  {
   "cell_type": "markdown",
   "metadata": {},
   "source": [
    "So, the data is obfuscated and there is $X \\times P$ instead of just $X$ now. Consequently, there are other weights $w_P$ as\n",
    "$$\n",
    "w = (X^T X)^{-1} X^T y \\quad \\Rightarrow \\quad w_P = [(XP)^T XP]^{-1} (XP)^T y\n",
    "$$\n",
    "\n",
    "The questions in hand are:\n",
    "How would $w$ and $w_P$ be linked if you simplify the formula for $w_P$ above? \n",
    "\n",
    "What would be predicted values with $w_P$? \n",
    "\n",
    "What does that mean for the quality of linear regression if you measure it with RMSE?\n",
    "\n"
   ]
  },
  {
   "cell_type": "markdown",
   "metadata": {},
   "source": [
    "**Answer**"
   ]
  },
  {
   "cell_type": "markdown",
   "metadata": {},
   "source": [
    "We know that :\n",
    "\n",
    "$(AB)^T = B^TA^T$\n",
    "\n",
    "and SINCE \n",
    "\n",
    "$ W_P = [(XP)^T XP]^{-1} (XP)^Ty$ \n",
    "\n",
    "THEN \n",
    "\n",
    "\n",
    "\n",
    "$W_P = [P^TX^TXP]^{-1}(XP)^Ty$\n",
    "\n",
    "\n",
    "\n",
    "$W_P = P^{-1}[X^T X]^{-1} (P^T)^{-1}P^TX^Ty$\n",
    "\n",
    "\n",
    "\n",
    "$W_P = P^{-1}[X^T X]^{-1}X^Ty$\n",
    "\n",
    "-----\n",
    "\n",
    "\n",
    "# Showing how  would  𝑤  and  𝑤𝑃  be linked if you simplify the formula for  𝑤𝑃 \n",
    "\n",
    "\n",
    "\n",
    "$W = (X^T X)^{-1} X^T y$\n",
    "\n",
    "$W_P = P^{-1}(X^T X)^{-1}X^Ty$"
   ]
  },
  {
   "cell_type": "markdown",
   "metadata": {},
   "source": [
    "# What would be predicted values with  𝑤𝑃 ?\n",
    "\n",
    "predictions of the model with weights 𝑤 and feature matrix  𝑋:\n",
    "\n",
    "$𝑦̂ =𝑋𝑤$\n",
    "\n",
    "\n",
    "predictions of the model with weights 𝑤p and feature matrix  𝑋 x P:\n",
    "\n",
    " $𝑦̂ =(𝑋P)P^{-1}𝑤$\n"
   ]
  },
  {
   "cell_type": "markdown",
   "metadata": {},
   "source": [
    "What does that mean for the quality of linear regression if you measure it with RMSE?\n",
    "\n",
    "\n",
    "This means that the quality of linear regression wont change even after Data Obfuscation."
   ]
  },
  {
   "cell_type": "markdown",
   "metadata": {},
   "source": [
    "## Test Linear Regression With Data Obfuscation"
   ]
  },
  {
   "cell_type": "markdown",
   "metadata": {},
   "source": [
    "Now, let's prove Linear Regression can work computationally with the chosen obfuscation transformation.\n",
    "\n",
    "Build a procedure or a class that runs Linear Regression optionally with the obfuscation. You can use either a ready implementation of Linear Regression from sciki-learn or your own.\n",
    "\n",
    "Run Linear Regression for the original data and the obfuscated one, compare the predicted values and the RMSE, $R^2$ metric values. Is there any difference?"
   ]
  },
  {
   "cell_type": "markdown",
   "metadata": {},
   "source": [
    "**Procedure**\n",
    "\n",
    "- Create a square matrix $P$ of random numbers.\n",
    "- Check that it is invertible. If not, repeat the first point until we get an invertible matrix.\n",
    "- <! your comment here !>\n",
    "- Use $XP$ as the new feature matrix"
   ]
  },
  {
   "cell_type": "code",
   "execution_count": 42,
   "metadata": {},
   "outputs": [],
   "source": [
    "rng = np.random.default_rng(seed=42)\n",
    "P = rng.random(size=(5, 5))"
   ]
  },
  {
   "cell_type": "code",
   "execution_count": 189,
   "metadata": {
    "scrolled": true
   },
   "outputs": [
    {
     "name": "stdout",
     "output_type": "stream",
     "text": [
      "[[ 1.00000000e+00 -2.84035922e-16  2.10401104e-16 -2.86310615e-16\n",
      "   2.81531702e-16]\n",
      " [ 7.73248958e-17  1.00000000e+00 -7.05363534e-17  1.50275815e-16\n",
      "  -1.09253087e-16]\n",
      " [ 1.02377186e-16 -1.61127177e-16  1.00000000e+00  1.45620334e-16\n",
      "  -4.61133016e-17]\n",
      " [-9.74847361e-17  7.90223196e-17  6.35997421e-17  1.00000000e+00\n",
      "  -9.79527690e-17]\n",
      " [ 2.79574282e-18 -1.07835225e-16  3.21526012e-16 -4.02228983e-18\n",
      "   1.00000000e+00]]\n"
     ]
    }
   ],
   "source": [
    "print(P @ ( np.linalg.inv(P)))\n"
   ]
  },
  {
   "cell_type": "code",
   "execution_count": null,
   "metadata": {},
   "outputs": [],
   "source": []
  },
  {
   "cell_type": "code",
   "execution_count": 190,
   "metadata": {},
   "outputs": [],
   "source": [
    "class MyLinearRegressionP:\n",
    "    \n",
    "    def __init__(self, P):\n",
    "        \n",
    "        self.weights = None\n",
    "        self.P = P\n",
    "    \n",
    "    def fit(self, X, y):\n",
    "        \n",
    "        # adding the unities\n",
    "        X2 = np.append(np.ones([len(X), 1]), X, axis=1)\n",
    "        self.weights = (np.linalg.inv(((X2@P).T) @ (X2@P))) @ ((X2@P).T) @ y\n",
    "\n",
    "    def predict(self, X):\n",
    "        \n",
    "        # adding the unities\n",
    "        X2 = np.append(np.ones([len(X), 1]), X, axis=1)\n",
    "        y_pred = X2@P.dot(self.weights)\n",
    "        \n",
    "        return y_pred"
   ]
  },
  {
   "cell_type": "code",
   "execution_count": 191,
   "metadata": {},
   "outputs": [
    {
     "name": "stdout",
     "output_type": "stream",
     "text": [
      "[-1.32253665  0.31686536  0.65549686 -1.10485986  1.57898247]\n",
      "RMSE: 0.34\n",
      "R2: 0.66\n"
     ]
    }
   ],
   "source": [
    "X = df[['age', 'gender', 'income', 'family_members']].to_numpy()\n",
    "y = df['insurance_benefits'].to_numpy()\n",
    "\n",
    "X_train, X_test, y_train, y_test = train_test_split(X, y, test_size=0.3, random_state=12345)\n",
    "\n",
    "lrp = MyLinearRegressionP(P)\n",
    "\n",
    "lrp.fit(X_train, y_train)\n",
    "print(lrp.weights)\n",
    "\n",
    "y_test_pred = lrp.predict(X_test)\n",
    "eval_regressor(y_test, y_test_pred)"
   ]
  },
  {
   "cell_type": "markdown",
   "metadata": {},
   "source": [
    "# Conclusions"
   ]
  },
  {
   "cell_type": "markdown",
   "metadata": {},
   "source": [
    "In this project, i have:\n",
    "1. found customers who are similar to a given customer, using the k nearest neighbors Algorithm, in order to help the company's agents with marketing.\n",
    "2.  Predicted whether a new customer is likely to receive an insurance benefit using the KNN-based classifier and proved it  can do better than a dummy model. \n",
    "3. Predicted the number of insurance benefits a new customer is likely to receive using a linear regression model i build. I have also shown that in most cases, the models i have build performs better with scaled data.\n",
    "4. Protected clients' personal data without breaking the model. I have proven that using Data Obfuscation to protect clients' personal data does not affect the models quality with RMSE AND R2 (it was the same, 0.34 RMSE and 0.66 R2) metrics and also with mathematical explenation. "
   ]
  }
 ],
 "metadata": {
  "ExecuteTimeLog": [
   {
    "duration": 6752,
    "start_time": "2022-07-14T09:14:20.549Z"
   },
   {
    "duration": 1378,
    "start_time": "2022-07-14T09:14:31.646Z"
   },
   {
    "duration": 62,
    "start_time": "2022-07-14T09:14:34.836Z"
   },
   {
    "duration": 5,
    "start_time": "2022-07-14T09:14:46.994Z"
   },
   {
    "duration": 15,
    "start_time": "2022-07-14T09:14:47.711Z"
   },
   {
    "duration": 12,
    "start_time": "2022-07-14T09:14:51.004Z"
   },
   {
    "duration": 5,
    "start_time": "2022-07-14T09:15:29.716Z"
   },
   {
    "duration": 4,
    "start_time": "2022-07-14T09:15:38.884Z"
   },
   {
    "duration": 11,
    "start_time": "2022-07-14T09:15:50.213Z"
   },
   {
    "duration": 33,
    "start_time": "2022-07-14T09:16:06.789Z"
   },
   {
    "duration": 3678,
    "start_time": "2022-07-14T09:17:35.841Z"
   },
   {
    "duration": 9,
    "start_time": "2022-07-14T09:30:59.943Z"
   },
   {
    "duration": 11,
    "start_time": "2022-07-14T09:31:45.985Z"
   },
   {
    "duration": 13,
    "start_time": "2022-07-14T09:31:48.061Z"
   },
   {
    "duration": 125,
    "start_time": "2022-07-14T09:35:51.920Z"
   },
   {
    "duration": 216,
    "start_time": "2022-07-14T09:36:05.240Z"
   },
   {
    "duration": 22,
    "start_time": "2022-07-14T09:36:22.937Z"
   },
   {
    "duration": 73,
    "start_time": "2022-07-14T09:37:43.137Z"
   },
   {
    "duration": 16,
    "start_time": "2022-07-14T09:37:45.724Z"
   },
   {
    "duration": 15,
    "start_time": "2022-07-14T09:38:16.099Z"
   },
   {
    "duration": 17,
    "start_time": "2022-07-14T09:39:09.080Z"
   },
   {
    "duration": 15,
    "start_time": "2022-07-14T09:39:09.394Z"
   },
   {
    "duration": 8,
    "start_time": "2022-07-14T09:43:27.087Z"
   },
   {
    "duration": 6,
    "start_time": "2022-07-14T09:43:50.791Z"
   },
   {
    "duration": 5,
    "start_time": "2022-07-14T09:52:03.470Z"
   },
   {
    "duration": 11,
    "start_time": "2022-07-14T09:52:11.157Z"
   },
   {
    "duration": 14,
    "start_time": "2022-07-14T09:52:22.404Z"
   },
   {
    "duration": 13,
    "start_time": "2022-07-14T09:52:30.659Z"
   },
   {
    "duration": 11,
    "start_time": "2022-07-14T09:52:43.701Z"
   },
   {
    "duration": 5,
    "start_time": "2022-07-14T09:53:11.775Z"
   },
   {
    "duration": 3,
    "start_time": "2022-07-14T10:14:34.548Z"
   },
   {
    "duration": 3,
    "start_time": "2022-07-14T10:14:36.800Z"
   },
   {
    "duration": 102,
    "start_time": "2022-07-14T10:14:37.593Z"
   },
   {
    "duration": 15,
    "start_time": "2022-07-14T10:15:48.303Z"
   },
   {
    "duration": 2974,
    "start_time": "2022-07-14T12:27:15.012Z"
   },
   {
    "duration": 3,
    "start_time": "2022-07-14T12:27:17.989Z"
   },
   {
    "duration": 34,
    "start_time": "2022-07-14T12:27:17.994Z"
   },
   {
    "duration": 4,
    "start_time": "2022-07-14T12:27:18.030Z"
   },
   {
    "duration": 24,
    "start_time": "2022-07-14T12:27:18.036Z"
   },
   {
    "duration": 25,
    "start_time": "2022-07-14T12:27:18.063Z"
   },
   {
    "duration": 14,
    "start_time": "2022-07-14T12:27:18.090Z"
   },
   {
    "duration": 12,
    "start_time": "2022-07-14T12:27:18.106Z"
   },
   {
    "duration": 31,
    "start_time": "2022-07-14T12:27:18.120Z"
   },
   {
    "duration": 4180,
    "start_time": "2022-07-14T12:27:18.159Z"
   },
   {
    "duration": 5,
    "start_time": "2022-07-14T12:27:22.346Z"
   },
   {
    "duration": 18,
    "start_time": "2022-07-14T12:27:22.354Z"
   },
   {
    "duration": 26,
    "start_time": "2022-07-14T12:27:22.375Z"
   },
   {
    "duration": 14,
    "start_time": "2022-07-14T12:27:22.403Z"
   },
   {
    "duration": 21,
    "start_time": "2022-07-14T12:27:22.536Z"
   },
   {
    "duration": 1051,
    "start_time": "2022-07-14T12:29:41.028Z"
   },
   {
    "duration": 1021,
    "start_time": "2022-07-14T12:29:54.749Z"
   },
   {
    "duration": 1342,
    "start_time": "2022-07-14T12:30:12.417Z"
   },
   {
    "duration": 12,
    "start_time": "2022-07-14T12:30:24.419Z"
   },
   {
    "duration": 7,
    "start_time": "2022-07-14T12:30:25.380Z"
   },
   {
    "duration": 5,
    "start_time": "2022-07-14T12:30:26.016Z"
   },
   {
    "duration": 13,
    "start_time": "2022-07-14T12:30:41.565Z"
   },
   {
    "duration": 3,
    "start_time": "2022-07-14T12:31:28.422Z"
   },
   {
    "duration": 57,
    "start_time": "2022-07-14T12:31:29.319Z"
   },
   {
    "duration": 6,
    "start_time": "2022-07-14T12:33:45.760Z"
   },
   {
    "duration": 4,
    "start_time": "2022-07-14T12:33:46.312Z"
   },
   {
    "duration": 2,
    "start_time": "2022-07-14T12:33:46.617Z"
   },
   {
    "duration": 42,
    "start_time": "2022-07-14T12:33:46.893Z"
   },
   {
    "duration": 4,
    "start_time": "2022-07-14T12:33:47.152Z"
   },
   {
    "duration": 4,
    "start_time": "2022-07-14T12:33:47.452Z"
   },
   {
    "duration": 11,
    "start_time": "2022-07-14T12:33:47.761Z"
   },
   {
    "duration": 9,
    "start_time": "2022-07-14T12:36:21.487Z"
   },
   {
    "duration": 3,
    "start_time": "2022-07-14T12:37:30.497Z"
   },
   {
    "duration": 25,
    "start_time": "2022-07-14T12:38:20.835Z"
   },
   {
    "duration": 15,
    "start_time": "2022-07-14T12:40:50.172Z"
   },
   {
    "duration": 42,
    "start_time": "2022-07-14T12:45:21.157Z"
   },
   {
    "duration": 4,
    "start_time": "2022-07-14T12:45:29.158Z"
   },
   {
    "duration": 18,
    "start_time": "2022-07-14T12:46:33.733Z"
   },
   {
    "duration": 3,
    "start_time": "2022-07-14T12:47:05.584Z"
   },
   {
    "duration": 10,
    "start_time": "2022-07-14T12:47:12.969Z"
   },
   {
    "duration": 42,
    "start_time": "2022-07-14T12:48:11.248Z"
   },
   {
    "duration": 5,
    "start_time": "2022-07-14T12:52:08.254Z"
   },
   {
    "duration": 9,
    "start_time": "2022-07-14T12:52:08.449Z"
   },
   {
    "duration": 43,
    "start_time": "2022-07-14T12:52:08.634Z"
   },
   {
    "duration": 2670,
    "start_time": "2022-07-14T16:02:46.533Z"
   },
   {
    "duration": 4,
    "start_time": "2022-07-14T16:02:49.205Z"
   },
   {
    "duration": 37,
    "start_time": "2022-07-14T16:02:49.210Z"
   },
   {
    "duration": 4,
    "start_time": "2022-07-14T16:02:49.249Z"
   },
   {
    "duration": 19,
    "start_time": "2022-07-14T16:02:49.254Z"
   },
   {
    "duration": 13,
    "start_time": "2022-07-14T16:02:49.274Z"
   },
   {
    "duration": 3,
    "start_time": "2022-07-14T16:02:49.289Z"
   },
   {
    "duration": 16,
    "start_time": "2022-07-14T16:02:49.293Z"
   },
   {
    "duration": 37,
    "start_time": "2022-07-14T16:02:49.310Z"
   },
   {
    "duration": 3629,
    "start_time": "2022-07-14T16:02:49.349Z"
   },
   {
    "duration": 3,
    "start_time": "2022-07-14T16:02:52.980Z"
   },
   {
    "duration": 23,
    "start_time": "2022-07-14T16:02:52.985Z"
   },
   {
    "duration": 27,
    "start_time": "2022-07-14T16:02:53.010Z"
   },
   {
    "duration": 27,
    "start_time": "2022-07-14T16:02:53.038Z"
   },
   {
    "duration": 81,
    "start_time": "2022-07-14T16:02:53.067Z"
   },
   {
    "duration": 113,
    "start_time": "2022-07-14T16:02:53.150Z"
   },
   {
    "duration": 29,
    "start_time": "2022-07-14T16:02:53.265Z"
   },
   {
    "duration": 17,
    "start_time": "2022-07-14T16:02:53.296Z"
   },
   {
    "duration": 11,
    "start_time": "2022-07-14T16:02:53.315Z"
   },
   {
    "duration": 22,
    "start_time": "2022-07-14T16:02:53.327Z"
   },
   {
    "duration": 20,
    "start_time": "2022-07-14T16:02:53.351Z"
   },
   {
    "duration": 25,
    "start_time": "2022-07-14T16:02:53.372Z"
   },
   {
    "duration": 17,
    "start_time": "2022-07-14T16:02:53.399Z"
   },
   {
    "duration": 71,
    "start_time": "2022-07-14T16:02:53.418Z"
   },
   {
    "duration": 47,
    "start_time": "2022-07-14T16:02:53.492Z"
   },
   {
    "duration": 0,
    "start_time": "2022-07-14T16:02:53.541Z"
   },
   {
    "duration": 0,
    "start_time": "2022-07-14T16:02:53.542Z"
   },
   {
    "duration": 0,
    "start_time": "2022-07-14T16:02:53.543Z"
   },
   {
    "duration": 21,
    "start_time": "2022-07-14T16:02:53.835Z"
   },
   {
    "duration": 4,
    "start_time": "2022-07-14T16:02:54.028Z"
   },
   {
    "duration": 10,
    "start_time": "2022-07-14T16:02:54.213Z"
   },
   {
    "duration": 50,
    "start_time": "2022-07-14T16:02:54.443Z"
   },
   {
    "duration": 2928,
    "start_time": "2022-07-14T17:48:10.221Z"
   },
   {
    "duration": 10,
    "start_time": "2022-07-14T17:48:13.153Z"
   },
   {
    "duration": 43,
    "start_time": "2022-07-14T17:48:13.165Z"
   },
   {
    "duration": 4,
    "start_time": "2022-07-14T17:48:13.211Z"
   },
   {
    "duration": 13,
    "start_time": "2022-07-14T17:48:13.217Z"
   },
   {
    "duration": 21,
    "start_time": "2022-07-14T17:48:13.232Z"
   },
   {
    "duration": 8,
    "start_time": "2022-07-14T17:48:13.254Z"
   },
   {
    "duration": 15,
    "start_time": "2022-07-14T17:48:13.890Z"
   },
   {
    "duration": 25,
    "start_time": "2022-07-14T17:48:14.388Z"
   },
   {
    "duration": 3875,
    "start_time": "2022-07-14T17:48:14.809Z"
   },
   {
    "duration": 3,
    "start_time": "2022-07-14T17:48:18.686Z"
   },
   {
    "duration": 7,
    "start_time": "2022-07-14T17:48:18.691Z"
   },
   {
    "duration": 13,
    "start_time": "2022-07-14T17:48:18.700Z"
   },
   {
    "duration": 10,
    "start_time": "2022-07-14T17:48:18.715Z"
   },
   {
    "duration": 40,
    "start_time": "2022-07-14T17:48:18.727Z"
   },
   {
    "duration": 127,
    "start_time": "2022-07-14T17:48:18.772Z"
   },
   {
    "duration": 20,
    "start_time": "2022-07-14T17:48:18.950Z"
   },
   {
    "duration": 30,
    "start_time": "2022-07-14T17:48:18.977Z"
   },
   {
    "duration": 6,
    "start_time": "2022-07-14T17:48:20.600Z"
   },
   {
    "duration": 11,
    "start_time": "2022-07-14T17:48:20.802Z"
   },
   {
    "duration": 6,
    "start_time": "2022-07-14T17:48:20.988Z"
   },
   {
    "duration": 5,
    "start_time": "2022-07-14T17:48:21.217Z"
   },
   {
    "duration": 3,
    "start_time": "2022-07-14T17:48:21.402Z"
   },
   {
    "duration": 55,
    "start_time": "2022-07-14T17:48:21.616Z"
   },
   {
    "duration": 69,
    "start_time": "2022-07-14T17:48:21.860Z"
   },
   {
    "duration": 4,
    "start_time": "2022-07-14T17:48:22.108Z"
   },
   {
    "duration": 7,
    "start_time": "2022-07-14T17:48:22.425Z"
   },
   {
    "duration": 5,
    "start_time": "2022-07-14T17:48:23.139Z"
   },
   {
    "duration": 25,
    "start_time": "2022-07-14T17:48:24.425Z"
   },
   {
    "duration": 10,
    "start_time": "2022-07-14T17:48:24.643Z"
   },
   {
    "duration": 19,
    "start_time": "2022-07-14T17:48:24.842Z"
   },
   {
    "duration": 53,
    "start_time": "2022-07-14T17:48:25.052Z"
   },
   {
    "duration": 74,
    "start_time": "2022-07-14T17:48:27.007Z"
   },
   {
    "duration": 5,
    "start_time": "2022-07-14T17:48:36.704Z"
   },
   {
    "duration": 4,
    "start_time": "2022-07-14T17:48:37.682Z"
   },
   {
    "duration": 69,
    "start_time": "2022-07-14T17:48:38.985Z"
   },
   {
    "duration": 14,
    "start_time": "2022-07-14T17:49:18.740Z"
   },
   {
    "duration": 4,
    "start_time": "2022-07-14T17:49:49.600Z"
   },
   {
    "duration": 6,
    "start_time": "2022-07-14T17:49:58.878Z"
   },
   {
    "duration": 4,
    "start_time": "2022-07-14T17:49:59.292Z"
   },
   {
    "duration": 18,
    "start_time": "2022-07-14T17:50:00.337Z"
   },
   {
    "duration": 14,
    "start_time": "2022-07-14T17:51:42.217Z"
   },
   {
    "duration": 6,
    "start_time": "2022-07-14T17:53:10.871Z"
   },
   {
    "duration": 11,
    "start_time": "2022-07-14T17:53:34.100Z"
   },
   {
    "duration": 1561,
    "start_time": "2022-07-15T05:17:05.833Z"
   },
   {
    "duration": 8212,
    "start_time": "2022-07-15T05:17:08.027Z"
   },
   {
    "duration": 8,
    "start_time": "2022-07-15T05:17:16.242Z"
   },
   {
    "duration": 97,
    "start_time": "2022-07-15T05:17:16.252Z"
   },
   {
    "duration": 5,
    "start_time": "2022-07-15T05:17:16.351Z"
   },
   {
    "duration": 28,
    "start_time": "2022-07-15T05:17:16.358Z"
   },
   {
    "duration": 15,
    "start_time": "2022-07-15T05:17:16.387Z"
   },
   {
    "duration": 4,
    "start_time": "2022-07-15T05:17:16.404Z"
   },
   {
    "duration": 19,
    "start_time": "2022-07-15T05:17:16.410Z"
   },
   {
    "duration": 35,
    "start_time": "2022-07-15T05:17:16.431Z"
   },
   {
    "duration": 3233,
    "start_time": "2022-07-15T05:17:16.469Z"
   },
   {
    "duration": 3,
    "start_time": "2022-07-15T05:17:19.704Z"
   },
   {
    "duration": 15,
    "start_time": "2022-07-15T05:17:19.709Z"
   },
   {
    "duration": 16,
    "start_time": "2022-07-15T05:17:19.725Z"
   },
   {
    "duration": 19,
    "start_time": "2022-07-15T05:17:19.742Z"
   },
   {
    "duration": 27,
    "start_time": "2022-07-15T05:17:19.763Z"
   },
   {
    "duration": 70,
    "start_time": "2022-07-15T05:17:19.792Z"
   },
   {
    "duration": 109,
    "start_time": "2022-07-15T05:17:19.865Z"
   },
   {
    "duration": 89,
    "start_time": "2022-07-15T05:17:19.976Z"
   },
   {
    "duration": 5,
    "start_time": "2022-07-15T05:17:23.368Z"
   },
   {
    "duration": 10,
    "start_time": "2022-07-15T05:17:23.437Z"
   },
   {
    "duration": 4,
    "start_time": "2022-07-15T05:17:23.523Z"
   },
   {
    "duration": 4,
    "start_time": "2022-07-15T05:17:23.603Z"
   },
   {
    "duration": 2,
    "start_time": "2022-07-15T05:17:23.727Z"
   },
   {
    "duration": 44,
    "start_time": "2022-07-15T05:17:23.783Z"
   },
   {
    "duration": 62,
    "start_time": "2022-07-15T05:17:23.870Z"
   },
   {
    "duration": 4,
    "start_time": "2022-07-15T05:17:23.950Z"
   },
   {
    "duration": 7,
    "start_time": "2022-07-15T05:17:24.030Z"
   },
   {
    "duration": 4,
    "start_time": "2022-07-15T05:17:24.106Z"
   },
   {
    "duration": 32,
    "start_time": "2022-07-15T05:17:26.013Z"
   },
   {
    "duration": 4,
    "start_time": "2022-07-15T05:17:26.222Z"
   },
   {
    "duration": 11,
    "start_time": "2022-07-15T05:17:26.486Z"
   },
   {
    "duration": 42,
    "start_time": "2022-07-15T05:17:26.732Z"
   },
   {
    "duration": 4,
    "start_time": "2022-07-15T05:17:32.015Z"
   },
   {
    "duration": 3,
    "start_time": "2022-07-15T05:17:32.550Z"
   },
   {
    "duration": 12,
    "start_time": "2022-07-15T05:17:33.483Z"
   },
   {
    "duration": 6,
    "start_time": "2022-07-15T05:17:34.075Z"
   },
   {
    "duration": 9,
    "start_time": "2022-07-15T05:17:34.723Z"
   },
   {
    "duration": 4,
    "start_time": "2022-07-15T05:17:35.834Z"
   },
   {
    "duration": 102,
    "start_time": "2022-07-15T05:18:02.292Z"
   },
   {
    "duration": 3,
    "start_time": "2022-07-15T05:18:18.985Z"
   },
   {
    "duration": 7,
    "start_time": "2022-07-15T05:19:28.446Z"
   },
   {
    "duration": 4,
    "start_time": "2022-07-15T05:20:39.459Z"
   },
   {
    "duration": 3,
    "start_time": "2022-07-15T05:20:39.817Z"
   },
   {
    "duration": 4,
    "start_time": "2022-07-15T05:20:46.728Z"
   },
   {
    "duration": 8,
    "start_time": "2022-07-15T05:46:35.436Z"
   },
   {
    "duration": 4,
    "start_time": "2022-07-15T05:46:40.928Z"
   },
   {
    "duration": 4,
    "start_time": "2022-07-15T05:47:19.184Z"
   },
   {
    "duration": 3,
    "start_time": "2022-07-15T05:47:48.316Z"
   },
   {
    "duration": 4,
    "start_time": "2022-07-15T05:47:49.242Z"
   },
   {
    "duration": 5,
    "start_time": "2022-07-15T05:48:06.131Z"
   },
   {
    "duration": 4,
    "start_time": "2022-07-15T05:48:46.787Z"
   },
   {
    "duration": 3,
    "start_time": "2022-07-15T05:48:47.329Z"
   },
   {
    "duration": 3,
    "start_time": "2022-07-15T05:48:49.382Z"
   },
   {
    "duration": 4,
    "start_time": "2022-07-15T05:48:50.738Z"
   },
   {
    "duration": 4,
    "start_time": "2022-07-15T05:49:07.833Z"
   },
   {
    "duration": 6,
    "start_time": "2022-07-15T05:50:12.514Z"
   },
   {
    "duration": 3,
    "start_time": "2022-07-15T05:50:29.610Z"
   },
   {
    "duration": 2,
    "start_time": "2022-07-15T05:50:30.113Z"
   },
   {
    "duration": 3,
    "start_time": "2022-07-15T05:50:31.077Z"
   },
   {
    "duration": 3,
    "start_time": "2022-07-15T05:52:41.952Z"
   },
   {
    "duration": 4,
    "start_time": "2022-07-15T05:52:54.959Z"
   },
   {
    "duration": 4,
    "start_time": "2022-07-15T05:53:09.786Z"
   },
   {
    "duration": 8,
    "start_time": "2022-07-15T05:53:34.016Z"
   },
   {
    "duration": 5,
    "start_time": "2022-07-15T05:53:38.422Z"
   },
   {
    "duration": 2538,
    "start_time": "2022-07-15T05:53:53.967Z"
   },
   {
    "duration": 4,
    "start_time": "2022-07-15T05:53:56.508Z"
   },
   {
    "duration": 38,
    "start_time": "2022-07-15T05:53:56.514Z"
   },
   {
    "duration": 4,
    "start_time": "2022-07-15T05:53:56.555Z"
   },
   {
    "duration": 15,
    "start_time": "2022-07-15T05:53:56.560Z"
   },
   {
    "duration": 12,
    "start_time": "2022-07-15T05:53:56.577Z"
   },
   {
    "duration": 3,
    "start_time": "2022-07-15T05:53:56.590Z"
   },
   {
    "duration": 13,
    "start_time": "2022-07-15T05:53:56.595Z"
   },
   {
    "duration": 20,
    "start_time": "2022-07-15T05:53:56.610Z"
   },
   {
    "duration": 3252,
    "start_time": "2022-07-15T05:53:56.632Z"
   },
   {
    "duration": 3,
    "start_time": "2022-07-15T05:53:59.885Z"
   },
   {
    "duration": 13,
    "start_time": "2022-07-15T05:53:59.889Z"
   },
   {
    "duration": 12,
    "start_time": "2022-07-15T05:53:59.903Z"
   },
   {
    "duration": 8,
    "start_time": "2022-07-15T05:53:59.916Z"
   },
   {
    "duration": 13,
    "start_time": "2022-07-15T05:53:59.926Z"
   },
   {
    "duration": 121,
    "start_time": "2022-07-15T05:53:59.940Z"
   },
   {
    "duration": 102,
    "start_time": "2022-07-15T05:54:00.063Z"
   },
   {
    "duration": 101,
    "start_time": "2022-07-15T05:54:00.166Z"
   },
   {
    "duration": 6,
    "start_time": "2022-07-15T05:54:00.360Z"
   },
   {
    "duration": 49,
    "start_time": "2022-07-15T05:54:00.368Z"
   },
   {
    "duration": 44,
    "start_time": "2022-07-15T05:54:00.418Z"
   },
   {
    "duration": 14,
    "start_time": "2022-07-15T05:54:00.464Z"
   },
   {
    "duration": 19,
    "start_time": "2022-07-15T05:54:00.479Z"
   },
   {
    "duration": 87,
    "start_time": "2022-07-15T05:54:00.499Z"
   },
   {
    "duration": 54,
    "start_time": "2022-07-15T05:54:00.587Z"
   },
   {
    "duration": 0,
    "start_time": "2022-07-15T05:54:00.643Z"
   },
   {
    "duration": 0,
    "start_time": "2022-07-15T05:54:00.644Z"
   },
   {
    "duration": 0,
    "start_time": "2022-07-15T05:54:00.645Z"
   },
   {
    "duration": 29,
    "start_time": "2022-07-15T05:54:00.820Z"
   },
   {
    "duration": 4,
    "start_time": "2022-07-15T05:54:01.058Z"
   },
   {
    "duration": 9,
    "start_time": "2022-07-15T05:54:01.307Z"
   },
   {
    "duration": 45,
    "start_time": "2022-07-15T05:54:01.510Z"
   },
   {
    "duration": 4,
    "start_time": "2022-07-15T05:54:04.883Z"
   },
   {
    "duration": 3,
    "start_time": "2022-07-15T05:54:05.489Z"
   },
   {
    "duration": 10,
    "start_time": "2022-07-15T05:54:05.956Z"
   },
   {
    "duration": 5,
    "start_time": "2022-07-15T05:54:06.161Z"
   },
   {
    "duration": 11,
    "start_time": "2022-07-15T05:54:06.380Z"
   },
   {
    "duration": 2,
    "start_time": "2022-07-15T05:54:06.685Z"
   },
   {
    "duration": 4,
    "start_time": "2022-07-15T05:54:06.954Z"
   },
   {
    "duration": 6,
    "start_time": "2022-07-15T05:54:07.053Z"
   },
   {
    "duration": 4,
    "start_time": "2022-07-15T05:54:09.306Z"
   },
   {
    "duration": 2,
    "start_time": "2022-07-15T05:54:09.909Z"
   },
   {
    "duration": 3,
    "start_time": "2022-07-15T05:54:13.685Z"
   },
   {
    "duration": 7,
    "start_time": "2022-07-15T05:54:15.066Z"
   },
   {
    "duration": 3,
    "start_time": "2022-07-15T05:57:49.861Z"
   },
   {
    "duration": 6,
    "start_time": "2022-07-15T05:57:50.549Z"
   },
   {
    "duration": 3,
    "start_time": "2022-07-15T05:57:51.817Z"
   },
   {
    "duration": 2,
    "start_time": "2022-07-15T05:57:52.391Z"
   },
   {
    "duration": 5,
    "start_time": "2022-07-15T05:57:53.308Z"
   },
   {
    "duration": 5,
    "start_time": "2022-07-15T05:58:06.334Z"
   },
   {
    "duration": 4,
    "start_time": "2022-07-15T05:58:10.856Z"
   },
   {
    "duration": 4,
    "start_time": "2022-07-15T05:58:17.474Z"
   },
   {
    "duration": 2,
    "start_time": "2022-07-15T05:58:18.044Z"
   },
   {
    "duration": 3,
    "start_time": "2022-07-15T05:58:19.510Z"
   },
   {
    "duration": 5,
    "start_time": "2022-07-15T05:58:21.010Z"
   },
   {
    "duration": 6,
    "start_time": "2022-07-15T05:59:31.375Z"
   },
   {
    "duration": 5,
    "start_time": "2022-07-15T05:59:53.416Z"
   },
   {
    "duration": 1796,
    "start_time": "2022-07-18T15:59:30.881Z"
   },
   {
    "duration": 66,
    "start_time": "2022-07-18T15:59:32.680Z"
   },
   {
    "duration": 38,
    "start_time": "2022-07-18T15:59:45.927Z"
   },
   {
    "duration": 5,
    "start_time": "2022-07-18T15:59:56.483Z"
   },
   {
    "duration": 10,
    "start_time": "2022-07-18T15:59:59.632Z"
   },
   {
    "duration": 24,
    "start_time": "2022-07-18T16:00:56.900Z"
   },
   {
    "duration": 6,
    "start_time": "2022-07-18T16:01:07.042Z"
   },
   {
    "duration": 6,
    "start_time": "2022-07-18T16:01:13.832Z"
   },
   {
    "duration": 3816,
    "start_time": "2022-07-18T16:04:31.255Z"
   },
   {
    "duration": 5,
    "start_time": "2022-07-18T16:05:13.845Z"
   },
   {
    "duration": 5,
    "start_time": "2022-07-18T16:05:32.475Z"
   },
   {
    "duration": 5,
    "start_time": "2022-07-18T16:05:37.727Z"
   },
   {
    "duration": 7,
    "start_time": "2022-07-18T16:06:06.615Z"
   },
   {
    "duration": 6,
    "start_time": "2022-07-18T16:06:44.180Z"
   },
   {
    "duration": 6,
    "start_time": "2022-07-18T16:07:01.785Z"
   },
   {
    "duration": 6,
    "start_time": "2022-07-18T16:07:16.837Z"
   },
   {
    "duration": 10,
    "start_time": "2022-07-18T16:07:33.008Z"
   },
   {
    "duration": 112,
    "start_time": "2022-07-18T16:07:39.223Z"
   },
   {
    "duration": 5,
    "start_time": "2022-07-18T16:07:42.979Z"
   },
   {
    "duration": 4,
    "start_time": "2022-07-18T16:20:49.887Z"
   },
   {
    "duration": 15,
    "start_time": "2022-07-18T16:20:51.025Z"
   },
   {
    "duration": 5,
    "start_time": "2022-07-18T16:24:38.166Z"
   },
   {
    "duration": 10,
    "start_time": "2022-07-18T16:24:39.181Z"
   },
   {
    "duration": 10,
    "start_time": "2022-07-18T16:24:39.835Z"
   },
   {
    "duration": 20,
    "start_time": "2022-07-18T16:24:44.268Z"
   },
   {
    "duration": 21,
    "start_time": "2022-07-18T16:24:44.988Z"
   },
   {
    "duration": 15,
    "start_time": "2022-07-18T16:24:45.504Z"
   },
   {
    "duration": 51,
    "start_time": "2022-07-18T16:24:46.066Z"
   },
   {
    "duration": 13,
    "start_time": "2022-07-18T16:34:49.374Z"
   },
   {
    "duration": 10,
    "start_time": "2022-07-18T16:34:56.867Z"
   },
   {
    "duration": 16,
    "start_time": "2022-07-18T16:35:02.028Z"
   },
   {
    "duration": 16,
    "start_time": "2022-07-18T16:35:12.322Z"
   },
   {
    "duration": 17,
    "start_time": "2022-07-18T16:35:20.355Z"
   },
   {
    "duration": 7,
    "start_time": "2022-07-18T16:35:41.415Z"
   },
   {
    "duration": 2,
    "start_time": "2022-07-18T16:35:42.038Z"
   },
   {
    "duration": 4,
    "start_time": "2022-07-18T16:37:54.727Z"
   },
   {
    "duration": 13,
    "start_time": "2022-07-18T16:37:55.070Z"
   },
   {
    "duration": 4,
    "start_time": "2022-07-18T16:37:58.660Z"
   },
   {
    "duration": 2,
    "start_time": "2022-07-18T16:37:58.868Z"
   },
   {
    "duration": 41,
    "start_time": "2022-07-18T16:37:59.025Z"
   },
   {
    "duration": 4,
    "start_time": "2022-07-18T16:37:59.199Z"
   },
   {
    "duration": 6,
    "start_time": "2022-07-18T16:37:59.379Z"
   },
   {
    "duration": 3,
    "start_time": "2022-07-18T16:37:59.555Z"
   },
   {
    "duration": 89,
    "start_time": "2022-07-18T16:51:41.274Z"
   },
   {
    "duration": 8,
    "start_time": "2022-07-18T16:51:45.131Z"
   },
   {
    "duration": 110,
    "start_time": "2022-07-18T16:51:50.951Z"
   },
   {
    "duration": 407,
    "start_time": "2022-07-18T16:52:52.894Z"
   },
   {
    "duration": 1398,
    "start_time": "2022-07-18T16:54:54.653Z"
   },
   {
    "duration": 20,
    "start_time": "2022-07-18T16:55:23.821Z"
   },
   {
    "duration": 946,
    "start_time": "2022-07-18T16:55:35.180Z"
   },
   {
    "duration": 970,
    "start_time": "2022-07-18T16:56:49.965Z"
   },
   {
    "duration": 949,
    "start_time": "2022-07-18T16:57:36.492Z"
   },
   {
    "duration": 12,
    "start_time": "2022-07-18T16:59:02.985Z"
   },
   {
    "duration": 993,
    "start_time": "2022-07-18T16:59:46.746Z"
   },
   {
    "duration": 5,
    "start_time": "2022-07-18T17:00:30.893Z"
   },
   {
    "duration": 1334,
    "start_time": "2022-07-18T17:00:36.644Z"
   },
   {
    "duration": 18,
    "start_time": "2022-07-18T17:00:57.150Z"
   },
   {
    "duration": 23,
    "start_time": "2022-07-18T17:01:24.823Z"
   },
   {
    "duration": 1119,
    "start_time": "2022-07-18T17:01:38.528Z"
   },
   {
    "duration": 1080,
    "start_time": "2022-07-18T17:01:53.375Z"
   },
   {
    "duration": 7,
    "start_time": "2022-07-18T17:17:22.353Z"
   },
   {
    "duration": 4,
    "start_time": "2022-07-18T17:17:23.006Z"
   },
   {
    "duration": 12,
    "start_time": "2022-07-18T17:17:34.880Z"
   },
   {
    "duration": 15,
    "start_time": "2022-07-18T17:22:48.807Z"
   },
   {
    "duration": 3,
    "start_time": "2022-07-18T17:22:49.126Z"
   },
   {
    "duration": 4,
    "start_time": "2022-07-18T17:22:49.900Z"
   },
   {
    "duration": 6,
    "start_time": "2022-07-18T17:22:51.233Z"
   },
   {
    "duration": 5,
    "start_time": "2022-07-18T17:24:01.425Z"
   },
   {
    "duration": 3,
    "start_time": "2022-07-18T17:25:24.625Z"
   },
   {
    "duration": 7,
    "start_time": "2022-07-18T17:25:30.921Z"
   },
   {
    "duration": 8,
    "start_time": "2022-07-18T17:25:43.584Z"
   },
   {
    "duration": 4,
    "start_time": "2022-07-18T17:25:52.155Z"
   },
   {
    "duration": 4,
    "start_time": "2022-07-18T17:25:57.724Z"
   },
   {
    "duration": 6,
    "start_time": "2022-07-18T17:26:07.928Z"
   },
   {
    "duration": 7,
    "start_time": "2022-07-18T17:26:15.556Z"
   },
   {
    "duration": 4,
    "start_time": "2022-07-18T17:26:29.144Z"
   },
   {
    "duration": 8,
    "start_time": "2022-07-18T17:26:35.825Z"
   },
   {
    "duration": 5,
    "start_time": "2022-07-18T17:29:09.358Z"
   },
   {
    "duration": 8,
    "start_time": "2022-07-18T17:30:09.933Z"
   },
   {
    "duration": 7,
    "start_time": "2022-07-18T17:31:24.592Z"
   },
   {
    "duration": 13,
    "start_time": "2022-07-18T17:31:49.821Z"
   },
   {
    "duration": 26,
    "start_time": "2022-07-18T17:32:16.402Z"
   },
   {
    "duration": 12,
    "start_time": "2022-07-18T17:39:48.130Z"
   },
   {
    "duration": 4,
    "start_time": "2022-07-18T17:39:50.355Z"
   },
   {
    "duration": 5,
    "start_time": "2022-07-18T17:40:03.752Z"
   },
   {
    "duration": 48,
    "start_time": "2022-07-18T17:43:59.219Z"
   },
   {
    "duration": 123,
    "start_time": "2022-07-18T17:44:09.953Z"
   },
   {
    "duration": 6687,
    "start_time": "2022-07-19T14:17:42.620Z"
   },
   {
    "duration": 1272,
    "start_time": "2022-07-19T14:17:49.308Z"
   },
   {
    "duration": 107,
    "start_time": "2022-07-19T14:17:50.582Z"
   },
   {
    "duration": 4,
    "start_time": "2022-07-19T14:17:50.691Z"
   },
   {
    "duration": 17,
    "start_time": "2022-07-19T14:17:50.698Z"
   },
   {
    "duration": 12,
    "start_time": "2022-07-19T14:17:50.717Z"
   },
   {
    "duration": 7,
    "start_time": "2022-07-19T14:17:50.731Z"
   },
   {
    "duration": 13,
    "start_time": "2022-07-19T14:18:02.959Z"
   },
   {
    "duration": 6,
    "start_time": "2022-07-19T14:18:17.409Z"
   },
   {
    "duration": 21,
    "start_time": "2022-07-19T14:21:33.067Z"
   },
   {
    "duration": 2,
    "start_time": "2022-07-19T14:24:08.487Z"
   },
   {
    "duration": 6,
    "start_time": "2022-07-19T14:24:09.212Z"
   },
   {
    "duration": 14,
    "start_time": "2022-07-19T14:24:15.299Z"
   },
   {
    "duration": 12,
    "start_time": "2022-07-19T14:24:16.115Z"
   },
   {
    "duration": 174,
    "start_time": "2022-07-19T14:24:21.880Z"
   },
   {
    "duration": 17,
    "start_time": "2022-07-19T14:24:27.162Z"
   },
   {
    "duration": 19,
    "start_time": "2022-07-19T14:24:27.951Z"
   },
   {
    "duration": 15,
    "start_time": "2022-07-19T14:24:58.699Z"
   },
   {
    "duration": 18,
    "start_time": "2022-07-19T14:34:58.271Z"
   },
   {
    "duration": 7,
    "start_time": "2022-07-19T14:34:58.899Z"
   },
   {
    "duration": 3,
    "start_time": "2022-07-19T14:35:31.889Z"
   },
   {
    "duration": 3,
    "start_time": "2022-07-19T14:35:32.552Z"
   },
   {
    "duration": 3,
    "start_time": "2022-07-19T14:35:45.454Z"
   },
   {
    "duration": 3,
    "start_time": "2022-07-19T14:37:38.677Z"
   },
   {
    "duration": 108,
    "start_time": "2022-07-19T14:37:39.556Z"
   },
   {
    "duration": 42,
    "start_time": "2022-07-19T14:37:42.119Z"
   },
   {
    "duration": 3,
    "start_time": "2022-07-19T14:37:42.416Z"
   },
   {
    "duration": 6,
    "start_time": "2022-07-19T14:37:42.654Z"
   },
   {
    "duration": 3,
    "start_time": "2022-07-19T14:37:53.230Z"
   },
   {
    "duration": 931,
    "start_time": "2022-07-19T14:39:05.401Z"
   },
   {
    "duration": 13,
    "start_time": "2022-07-19T14:39:10.379Z"
   },
   {
    "duration": 835,
    "start_time": "2022-07-19T14:39:11.174Z"
   },
   {
    "duration": 861,
    "start_time": "2022-07-19T14:42:10.331Z"
   },
   {
    "duration": 901,
    "start_time": "2022-07-19T14:42:21.166Z"
   },
   {
    "duration": 888,
    "start_time": "2022-07-19T14:44:07.890Z"
   },
   {
    "duration": 4,
    "start_time": "2022-07-19T14:46:32.702Z"
   },
   {
    "duration": 8,
    "start_time": "2022-07-19T14:46:34.755Z"
   },
   {
    "duration": 1033,
    "start_time": "2022-07-19T14:47:52.683Z"
   },
   {
    "duration": 1674,
    "start_time": "2022-07-19T14:48:51.900Z"
   },
   {
    "duration": 977,
    "start_time": "2022-07-19T14:49:06.814Z"
   },
   {
    "duration": 4,
    "start_time": "2022-07-19T14:51:02.846Z"
   },
   {
    "duration": 3,
    "start_time": "2022-07-19T14:51:03.634Z"
   },
   {
    "duration": 4,
    "start_time": "2022-07-19T14:52:55.017Z"
   },
   {
    "duration": 9,
    "start_time": "2022-07-19T14:52:59.771Z"
   },
   {
    "duration": 8,
    "start_time": "2022-07-19T14:53:05.012Z"
   },
   {
    "duration": 10,
    "start_time": "2022-07-19T14:54:01.375Z"
   },
   {
    "duration": 11,
    "start_time": "2022-07-19T14:55:13.494Z"
   },
   {
    "duration": 8,
    "start_time": "2022-07-19T14:55:36.956Z"
   },
   {
    "duration": 5,
    "start_time": "2022-07-19T14:56:12.578Z"
   },
   {
    "duration": 4,
    "start_time": "2022-07-19T14:56:12.905Z"
   },
   {
    "duration": 10,
    "start_time": "2022-07-19T14:56:13.493Z"
   },
   {
    "duration": 17,
    "start_time": "2022-07-19T14:56:14.128Z"
   },
   {
    "duration": 4,
    "start_time": "2022-07-19T14:56:50.352Z"
   },
   {
    "duration": 11,
    "start_time": "2022-07-19T14:56:51.009Z"
   },
   {
    "duration": 9,
    "start_time": "2022-07-19T14:56:51.820Z"
   },
   {
    "duration": 10,
    "start_time": "2022-07-19T14:57:10.357Z"
   },
   {
    "duration": 5,
    "start_time": "2022-07-19T14:57:33.076Z"
   },
   {
    "duration": 4,
    "start_time": "2022-07-19T14:57:33.595Z"
   },
   {
    "duration": 11,
    "start_time": "2022-07-19T14:57:35.988Z"
   },
   {
    "duration": 8,
    "start_time": "2022-07-19T14:57:36.996Z"
   },
   {
    "duration": 8,
    "start_time": "2022-07-19T14:57:38.829Z"
   },
   {
    "duration": 11,
    "start_time": "2022-07-19T14:57:39.572Z"
   },
   {
    "duration": 3,
    "start_time": "2022-07-19T14:57:40.195Z"
   },
   {
    "duration": 3,
    "start_time": "2022-07-19T14:57:40.723Z"
   },
   {
    "duration": 6,
    "start_time": "2022-07-19T14:57:41.390Z"
   },
   {
    "duration": 9,
    "start_time": "2022-07-19T14:58:50.125Z"
   },
   {
    "duration": 11,
    "start_time": "2022-07-19T14:58:55.082Z"
   },
   {
    "duration": 8,
    "start_time": "2022-07-19T14:58:58.414Z"
   },
   {
    "duration": 9,
    "start_time": "2022-07-19T14:59:03.575Z"
   },
   {
    "duration": 12,
    "start_time": "2022-07-19T15:04:43.915Z"
   },
   {
    "duration": 9,
    "start_time": "2022-07-19T15:04:46.027Z"
   },
   {
    "duration": 11,
    "start_time": "2022-07-19T15:04:54.308Z"
   },
   {
    "duration": 9,
    "start_time": "2022-07-19T15:14:58.997Z"
   },
   {
    "duration": 4,
    "start_time": "2022-07-19T15:15:02.190Z"
   },
   {
    "duration": 3,
    "start_time": "2022-07-19T15:15:02.385Z"
   },
   {
    "duration": 3,
    "start_time": "2022-07-19T15:15:02.861Z"
   },
   {
    "duration": 4,
    "start_time": "2022-07-19T15:15:03.228Z"
   },
   {
    "duration": 5,
    "start_time": "2022-07-19T15:15:03.586Z"
   },
   {
    "duration": 6,
    "start_time": "2022-07-19T15:15:06.178Z"
   },
   {
    "duration": 5,
    "start_time": "2022-07-19T15:15:28.779Z"
   },
   {
    "duration": 3,
    "start_time": "2022-07-19T15:16:02.890Z"
   },
   {
    "duration": 5,
    "start_time": "2022-07-19T15:16:06.752Z"
   },
   {
    "duration": 6,
    "start_time": "2022-07-19T15:16:32.376Z"
   },
   {
    "duration": 14,
    "start_time": "2022-07-19T15:16:45.524Z"
   },
   {
    "duration": 71,
    "start_time": "2022-07-19T15:17:18.490Z"
   },
   {
    "duration": 4,
    "start_time": "2022-07-19T15:17:27.035Z"
   },
   {
    "duration": 100,
    "start_time": "2022-07-19T16:33:00.084Z"
   },
   {
    "duration": 3,
    "start_time": "2022-07-19T16:33:13.795Z"
   },
   {
    "duration": 4,
    "start_time": "2022-07-19T16:33:16.002Z"
   },
   {
    "duration": 33,
    "start_time": "2022-07-19T16:34:31.952Z"
   },
   {
    "duration": 5,
    "start_time": "2022-07-19T16:34:36.388Z"
   },
   {
    "duration": 11,
    "start_time": "2022-07-19T16:34:36.915Z"
   },
   {
    "duration": 12,
    "start_time": "2022-07-19T16:34:48.616Z"
   },
   {
    "duration": 19,
    "start_time": "2022-07-19T16:37:09.017Z"
   },
   {
    "duration": 13,
    "start_time": "2022-07-19T16:37:56.582Z"
   },
   {
    "duration": 23,
    "start_time": "2022-07-19T16:38:03.476Z"
   },
   {
    "duration": 8,
    "start_time": "2022-07-19T16:38:53.957Z"
   },
   {
    "duration": 10,
    "start_time": "2022-07-19T16:38:54.798Z"
   },
   {
    "duration": 3420,
    "start_time": "2022-07-19T19:21:15.024Z"
   },
   {
    "duration": 6,
    "start_time": "2022-07-19T19:21:18.447Z"
   },
   {
    "duration": 84,
    "start_time": "2022-07-19T19:21:18.456Z"
   },
   {
    "duration": 4,
    "start_time": "2022-07-19T19:21:18.542Z"
   },
   {
    "duration": 49,
    "start_time": "2022-07-19T19:21:18.548Z"
   },
   {
    "duration": 23,
    "start_time": "2022-07-19T19:21:18.737Z"
   },
   {
    "duration": 7,
    "start_time": "2022-07-19T19:21:19.185Z"
   },
   {
    "duration": 14,
    "start_time": "2022-07-19T19:21:19.404Z"
   },
   {
    "duration": 7,
    "start_time": "2022-07-19T19:21:19.716Z"
   },
   {
    "duration": 37,
    "start_time": "2022-07-19T19:21:20.169Z"
   },
   {
    "duration": 4491,
    "start_time": "2022-07-19T19:21:21.123Z"
   },
   {
    "duration": 3,
    "start_time": "2022-07-19T19:21:25.617Z"
   },
   {
    "duration": 6,
    "start_time": "2022-07-19T19:21:25.622Z"
   },
   {
    "duration": 46,
    "start_time": "2022-07-19T19:21:25.631Z"
   },
   {
    "duration": 18,
    "start_time": "2022-07-19T19:21:25.689Z"
   },
   {
    "duration": 16,
    "start_time": "2022-07-19T19:21:25.708Z"
   },
   {
    "duration": 84,
    "start_time": "2022-07-19T19:21:25.726Z"
   },
   {
    "duration": 60,
    "start_time": "2022-07-19T19:21:25.859Z"
   },
   {
    "duration": 22,
    "start_time": "2022-07-19T19:21:25.921Z"
   },
   {
    "duration": 8,
    "start_time": "2022-07-19T19:21:27.944Z"
   },
   {
    "duration": 17,
    "start_time": "2022-07-19T19:21:28.216Z"
   },
   {
    "duration": 6,
    "start_time": "2022-07-19T19:21:28.427Z"
   },
   {
    "duration": 5,
    "start_time": "2022-07-19T19:21:28.634Z"
   },
   {
    "duration": 61,
    "start_time": "2022-07-19T19:21:28.823Z"
   },
   {
    "duration": 4,
    "start_time": "2022-07-19T19:21:29.034Z"
   },
   {
    "duration": 9,
    "start_time": "2022-07-19T19:21:29.407Z"
   },
   {
    "duration": 4,
    "start_time": "2022-07-19T19:21:29.616Z"
   },
   {
    "duration": 16,
    "start_time": "2022-07-19T19:21:29.817Z"
   },
   {
    "duration": 1109,
    "start_time": "2022-07-19T19:21:30.023Z"
   },
   {
    "duration": 6,
    "start_time": "2022-07-19T19:21:31.337Z"
   },
   {
    "duration": 3,
    "start_time": "2022-07-19T19:21:31.601Z"
   },
   {
    "duration": 32,
    "start_time": "2022-07-19T19:21:31.790Z"
   },
   {
    "duration": 11,
    "start_time": "2022-07-19T19:21:32.038Z"
   },
   {
    "duration": 115,
    "start_time": "2022-07-19T19:21:32.297Z"
   },
   {
    "duration": 4,
    "start_time": "2022-07-19T19:21:33.016Z"
   },
   {
    "duration": 4,
    "start_time": "2022-07-19T19:21:41.502Z"
   },
   {
    "duration": 5,
    "start_time": "2022-07-19T19:21:41.732Z"
   },
   {
    "duration": 4,
    "start_time": "2022-07-19T19:21:42.278Z"
   },
   {
    "duration": 9,
    "start_time": "2022-07-19T19:21:42.693Z"
   },
   {
    "duration": 5,
    "start_time": "2022-07-19T19:21:43.115Z"
   },
   {
    "duration": 9,
    "start_time": "2022-07-19T19:21:43.781Z"
   },
   {
    "duration": 19,
    "start_time": "2022-07-19T19:21:43.983Z"
   },
   {
    "duration": 33,
    "start_time": "2022-07-19T19:21:44.385Z"
   },
   {
    "duration": 3,
    "start_time": "2022-07-19T19:21:48.237Z"
   },
   {
    "duration": 21,
    "start_time": "2022-07-19T19:21:48.687Z"
   },
   {
    "duration": 6,
    "start_time": "2022-07-19T19:21:49.307Z"
   },
   {
    "duration": 11,
    "start_time": "2022-07-19T19:21:49.700Z"
   },
   {
    "duration": 237,
    "start_time": "2022-07-19T19:35:49.895Z"
   },
   {
    "duration": 3066,
    "start_time": "2022-07-19T19:37:14.614Z"
   },
   {
    "duration": 6,
    "start_time": "2022-07-19T19:37:17.683Z"
   },
   {
    "duration": 43,
    "start_time": "2022-07-19T19:37:17.691Z"
   },
   {
    "duration": 4,
    "start_time": "2022-07-19T19:37:17.737Z"
   },
   {
    "duration": 22,
    "start_time": "2022-07-19T19:37:17.743Z"
   },
   {
    "duration": 11,
    "start_time": "2022-07-19T19:37:18.111Z"
   },
   {
    "duration": 4,
    "start_time": "2022-07-19T19:37:18.475Z"
   },
   {
    "duration": 25,
    "start_time": "2022-07-19T19:37:19.168Z"
   },
   {
    "duration": 8,
    "start_time": "2022-07-19T19:37:19.582Z"
   },
   {
    "duration": 37,
    "start_time": "2022-07-19T19:37:20.479Z"
   },
   {
    "duration": 4374,
    "start_time": "2022-07-19T19:37:22.403Z"
   },
   {
    "duration": 15,
    "start_time": "2022-07-19T19:37:26.779Z"
   },
   {
    "duration": 5,
    "start_time": "2022-07-19T19:37:26.796Z"
   },
   {
    "duration": 11,
    "start_time": "2022-07-19T19:37:26.804Z"
   },
   {
    "duration": 16,
    "start_time": "2022-07-19T19:37:26.816Z"
   },
   {
    "duration": 21,
    "start_time": "2022-07-19T19:37:26.887Z"
   },
   {
    "duration": 22,
    "start_time": "2022-07-19T19:37:27.251Z"
   },
   {
    "duration": 16,
    "start_time": "2022-07-19T19:37:27.611Z"
   },
   {
    "duration": 16,
    "start_time": "2022-07-19T19:37:28.016Z"
   },
   {
    "duration": 10,
    "start_time": "2022-07-19T19:37:30.594Z"
   },
   {
    "duration": 12,
    "start_time": "2022-07-19T19:37:30.916Z"
   },
   {
    "duration": 6,
    "start_time": "2022-07-19T19:37:31.280Z"
   },
   {
    "duration": 4,
    "start_time": "2022-07-19T19:37:31.600Z"
   },
   {
    "duration": 46,
    "start_time": "2022-07-19T19:37:34.692Z"
   },
   {
    "duration": 4,
    "start_time": "2022-07-19T19:37:35.013Z"
   },
   {
    "duration": 8,
    "start_time": "2022-07-19T19:37:35.372Z"
   },
   {
    "duration": 3,
    "start_time": "2022-07-19T19:37:35.719Z"
   },
   {
    "duration": 17,
    "start_time": "2022-07-19T19:37:46.497Z"
   },
   {
    "duration": 1179,
    "start_time": "2022-07-19T19:37:47.208Z"
   },
   {
    "duration": 6,
    "start_time": "2022-07-19T19:37:53.483Z"
   },
   {
    "duration": 6,
    "start_time": "2022-07-19T19:37:53.883Z"
   },
   {
    "duration": 12,
    "start_time": "2022-07-19T19:37:54.186Z"
   },
   {
    "duration": 11,
    "start_time": "2022-07-19T19:37:54.586Z"
   },
   {
    "duration": 7,
    "start_time": "2022-07-19T19:37:55.983Z"
   },
   {
    "duration": 6,
    "start_time": "2022-07-19T19:37:56.293Z"
   },
   {
    "duration": 4,
    "start_time": "2022-07-19T19:37:56.930Z"
   },
   {
    "duration": 5,
    "start_time": "2022-07-19T19:37:57.522Z"
   },
   {
    "duration": 6,
    "start_time": "2022-07-19T19:37:58.094Z"
   },
   {
    "duration": 8,
    "start_time": "2022-07-19T19:37:58.983Z"
   },
   {
    "duration": 8,
    "start_time": "2022-07-19T19:37:59.287Z"
   },
   {
    "duration": 15,
    "start_time": "2022-07-19T19:37:59.892Z"
   },
   {
    "duration": 3,
    "start_time": "2022-07-19T19:38:03.707Z"
   },
   {
    "duration": 4,
    "start_time": "2022-07-19T19:38:04.018Z"
   },
   {
    "duration": 6,
    "start_time": "2022-07-19T19:38:04.666Z"
   },
   {
    "duration": 12,
    "start_time": "2022-07-19T19:38:04.980Z"
   },
   {
    "duration": 7186,
    "start_time": "2022-07-23T08:29:55.679Z"
   },
   {
    "duration": 1407,
    "start_time": "2022-07-23T08:30:02.868Z"
   },
   {
    "duration": 96,
    "start_time": "2022-07-23T08:30:04.277Z"
   },
   {
    "duration": 4,
    "start_time": "2022-07-23T08:30:04.376Z"
   },
   {
    "duration": 14,
    "start_time": "2022-07-23T08:30:04.382Z"
   },
   {
    "duration": 14,
    "start_time": "2022-07-23T08:30:04.397Z"
   },
   {
    "duration": 3,
    "start_time": "2022-07-23T08:30:04.412Z"
   },
   {
    "duration": 15,
    "start_time": "2022-07-23T08:30:05.586Z"
   },
   {
    "duration": 5,
    "start_time": "2022-07-23T08:30:05.747Z"
   },
   {
    "duration": 26,
    "start_time": "2022-07-23T08:30:05.787Z"
   },
   {
    "duration": 3583,
    "start_time": "2022-07-23T08:30:06.293Z"
   },
   {
    "duration": 3,
    "start_time": "2022-07-23T08:30:09.879Z"
   },
   {
    "duration": 25,
    "start_time": "2022-07-23T08:30:09.884Z"
   },
   {
    "duration": 67,
    "start_time": "2022-07-23T08:30:09.912Z"
   },
   {
    "duration": 29,
    "start_time": "2022-07-23T08:30:09.982Z"
   },
   {
    "duration": 169,
    "start_time": "2022-07-23T08:30:10.013Z"
   },
   {
    "duration": 98,
    "start_time": "2022-07-23T08:30:10.185Z"
   },
   {
    "duration": 98,
    "start_time": "2022-07-23T08:30:10.287Z"
   },
   {
    "duration": 29,
    "start_time": "2022-07-23T08:30:10.387Z"
   },
   {
    "duration": 5,
    "start_time": "2022-07-23T08:30:11.855Z"
   },
   {
    "duration": 13,
    "start_time": "2022-07-23T08:30:12.374Z"
   },
   {
    "duration": 5,
    "start_time": "2022-07-23T08:30:13.375Z"
   },
   {
    "duration": 5,
    "start_time": "2022-07-23T08:30:13.661Z"
   },
   {
    "duration": 59,
    "start_time": "2022-07-23T08:30:13.855Z"
   },
   {
    "duration": 4,
    "start_time": "2022-07-23T08:30:14.146Z"
   },
   {
    "duration": 9,
    "start_time": "2022-07-23T08:30:14.460Z"
   },
   {
    "duration": 3,
    "start_time": "2022-07-23T08:30:15.097Z"
   },
   {
    "duration": 19,
    "start_time": "2022-07-23T08:30:15.551Z"
   },
   {
    "duration": 996,
    "start_time": "2022-07-23T08:30:15.684Z"
   },
   {
    "duration": 4,
    "start_time": "2022-07-23T08:30:24.112Z"
   },
   {
    "duration": 3,
    "start_time": "2022-07-23T08:30:27.473Z"
   },
   {
    "duration": 11,
    "start_time": "2022-07-23T08:30:28.573Z"
   },
   {
    "duration": 200,
    "start_time": "2022-07-23T08:30:28.586Z"
   },
   {
    "duration": 4,
    "start_time": "2022-07-23T08:30:40.406Z"
   },
   {
    "duration": 12,
    "start_time": "2022-07-23T08:30:40.859Z"
   },
   {
    "duration": 3,
    "start_time": "2022-07-23T08:30:41.686Z"
   },
   {
    "duration": 5,
    "start_time": "2022-07-23T08:30:42.146Z"
   },
   {
    "duration": 5,
    "start_time": "2022-07-23T08:30:42.772Z"
   },
   {
    "duration": 5,
    "start_time": "2022-07-23T08:30:43.200Z"
   },
   {
    "duration": 6,
    "start_time": "2022-07-23T08:30:43.407Z"
   },
   {
    "duration": 15,
    "start_time": "2022-07-23T08:30:44.537Z"
   },
   {
    "duration": 6435,
    "start_time": "2022-07-27T09:46:58.417Z"
   },
   {
    "duration": 1367,
    "start_time": "2022-07-27T09:47:04.854Z"
   },
   {
    "duration": 103,
    "start_time": "2022-07-27T09:47:06.223Z"
   },
   {
    "duration": 3,
    "start_time": "2022-07-27T09:47:06.328Z"
   },
   {
    "duration": 18,
    "start_time": "2022-07-27T09:47:06.333Z"
   },
   {
    "duration": 11,
    "start_time": "2022-07-27T09:47:06.352Z"
   },
   {
    "duration": 5,
    "start_time": "2022-07-27T09:47:06.364Z"
   },
   {
    "duration": 15,
    "start_time": "2022-07-27T09:47:06.370Z"
   },
   {
    "duration": 4,
    "start_time": "2022-07-27T09:47:06.386Z"
   },
   {
    "duration": 21,
    "start_time": "2022-07-27T09:47:06.401Z"
   },
   {
    "duration": 3379,
    "start_time": "2022-07-27T09:47:06.424Z"
   },
   {
    "duration": 2,
    "start_time": "2022-07-27T09:47:09.806Z"
   },
   {
    "duration": 9,
    "start_time": "2022-07-27T09:47:09.810Z"
   },
   {
    "duration": 17,
    "start_time": "2022-07-27T09:47:09.820Z"
   },
   {
    "duration": 11,
    "start_time": "2022-07-27T09:47:09.839Z"
   },
   {
    "duration": 151,
    "start_time": "2022-07-27T09:47:09.859Z"
   },
   {
    "duration": 101,
    "start_time": "2022-07-27T09:47:10.012Z"
   },
   {
    "duration": 100,
    "start_time": "2022-07-27T09:47:10.115Z"
   },
   {
    "duration": 14,
    "start_time": "2022-07-27T09:47:10.217Z"
   },
   {
    "duration": 5,
    "start_time": "2022-07-27T09:47:10.232Z"
   },
   {
    "duration": 17,
    "start_time": "2022-07-27T09:47:10.239Z"
   },
   {
    "duration": 4,
    "start_time": "2022-07-27T09:47:10.258Z"
   },
   {
    "duration": 38,
    "start_time": "2022-07-27T09:47:10.264Z"
   },
   {
    "duration": 51,
    "start_time": "2022-07-27T09:47:10.305Z"
   },
   {
    "duration": 3,
    "start_time": "2022-07-27T09:47:10.358Z"
   },
   {
    "duration": 19,
    "start_time": "2022-07-27T09:47:10.362Z"
   },
   {
    "duration": 13,
    "start_time": "2022-07-27T09:47:10.383Z"
   },
   {
    "duration": 24,
    "start_time": "2022-07-27T09:47:10.400Z"
   },
   {
    "duration": 933,
    "start_time": "2022-07-27T09:47:10.425Z"
   },
   {
    "duration": 4,
    "start_time": "2022-07-27T09:47:11.360Z"
   },
   {
    "duration": 6,
    "start_time": "2022-07-27T09:47:11.365Z"
   },
   {
    "duration": 30,
    "start_time": "2022-07-27T09:47:11.373Z"
   },
   {
    "duration": 11,
    "start_time": "2022-07-27T09:47:11.404Z"
   },
   {
    "duration": 5,
    "start_time": "2022-07-27T09:47:11.502Z"
   },
   {
    "duration": 95,
    "start_time": "2022-07-27T09:47:11.508Z"
   },
   {
    "duration": 3,
    "start_time": "2022-07-27T09:47:11.605Z"
   },
   {
    "duration": 6,
    "start_time": "2022-07-27T09:47:11.610Z"
   },
   {
    "duration": 85,
    "start_time": "2022-07-27T09:47:11.618Z"
   },
   {
    "duration": 5,
    "start_time": "2022-07-27T09:47:11.705Z"
   },
   {
    "duration": 95,
    "start_time": "2022-07-27T09:47:11.711Z"
   },
   {
    "duration": 99,
    "start_time": "2022-07-27T09:47:11.807Z"
   },
   {
    "duration": 4,
    "start_time": "2022-07-27T09:47:11.908Z"
   }
  ],
  "kernelspec": {
   "display_name": "Python 3",
   "language": "python",
   "name": "python3"
  },
  "language_info": {
   "codemirror_mode": {
    "name": "ipython",
    "version": 3
   },
   "file_extension": ".py",
   "mimetype": "text/x-python",
   "name": "python",
   "nbconvert_exporter": "python",
   "pygments_lexer": "ipython3",
   "version": "3.8.8"
  },
  "toc": {
   "base_numbering": 1,
   "nav_menu": {},
   "number_sections": true,
   "sideBar": true,
   "skip_h1_title": true,
   "title_cell": "Table of Contents",
   "title_sidebar": "Contents",
   "toc_cell": false,
   "toc_position": {},
   "toc_section_display": true,
   "toc_window_display": false
  }
 },
 "nbformat": 4,
 "nbformat_minor": 4
}
